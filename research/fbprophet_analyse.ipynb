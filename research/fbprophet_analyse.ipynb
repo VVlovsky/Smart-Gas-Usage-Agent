{
 "cells": [
  {
   "cell_type": "code",
   "execution_count": 67,
   "outputs": [],
   "source": [
    "from src.db.db_utils import db_utils\n",
    "from src.db.controller import init_async_db\n",
    "from src.config import ETHER_protocols\n",
    "import pandas as pd\n",
    "import numpy as np\n",
    "import matplotlib.pyplot as plt\n",
    "from datetime import datetime\n",
    "import plotly.express as px\n",
    "import matplotlib as mpl\n",
    "mpl.rcParams['figure.figsize'] = (10, 8)\n",
    "mpl.rcParams['axes.grid'] = False"
   ],
   "metadata": {
    "collapsed": false,
    "pycharm": {
     "name": "#%%\n"
    }
   }
  },
  {
   "cell_type": "code",
   "execution_count": 68,
   "metadata": {
    "collapsed": true,
    "pycharm": {
     "name": "#%%\n"
    }
   },
   "outputs": [
    {
     "name": "stdout",
     "output_type": "stream",
     "text": [
      "2346\n"
     ]
    }
   ],
   "source": [
    "\n",
    "transactions, blocks, future = await init_async_db(False)\n",
    "db_utils.set_tables(transactions, blocks, future)\n",
    "\n",
    "transaction_table = db_utils.get_transactions()\n",
    "\n",
    "protocol = ETHER_protocols.get('RoninBridge').lower()\n",
    "transactions_rows = await transaction_table.get_all_rows_by_criteria({'contract': protocol})\n",
    "print(len(transactions_rows))\n"
   ]
  },
  {
   "cell_type": "code",
   "execution_count": 69,
   "outputs": [
    {
     "name": "stdout",
     "output_type": "stream",
     "text": [
      "0x1a2a1c938ce3ec39b6d47113c7955baa9dd454f2\n"
     ]
    }
   ],
   "source": [
    "print(protocol)"
   ],
   "metadata": {
    "collapsed": false,
    "pycharm": {
     "name": "#%%\n"
    }
   }
  },
  {
   "cell_type": "code",
   "execution_count": 70,
   "outputs": [],
   "source": [
    "\n",
    "df = pd.DataFrame([t.__dict__ for t in transactions_rows])"
   ],
   "metadata": {
    "collapsed": false,
    "pycharm": {
     "name": "#%%\n"
    }
   }
  },
  {
   "cell_type": "code",
   "execution_count": 71,
   "outputs": [
    {
     "data": {
      "text/plain": "                                  _sa_instance_state  \\\n0  <sqlalchemy.orm.state.InstanceState object at ...   \n1  <sqlalchemy.orm.state.InstanceState object at ...   \n2  <sqlalchemy.orm.state.InstanceState object at ...   \n3  <sqlalchemy.orm.state.InstanceState object at ...   \n4  <sqlalchemy.orm.state.InstanceState object at ...   \n\n                                     contract     id  \\\n0  0x1a2a1c938ce3ec39b6d47113c7955baa9dd454f2  15607   \n1  0x1a2a1c938ce3ec39b6d47113c7955baa9dd454f2  16322   \n2  0x1a2a1c938ce3ec39b6d47113c7955baa9dd454f2  16328   \n3  0x1a2a1c938ce3ec39b6d47113c7955baa9dd454f2  16566   \n4  0x1a2a1c938ce3ec39b6d47113c7955baa9dd454f2  16802   \n\n                                                  tx    gas_price     block  \\\n0  0xef487a8e3480568fedd25446efd91adf39707dfbabb3...  22476838932  14440847   \n1  0xe8f951c1bd4e2ed1525de51e3e98c9c0c36f013c2634...  24664468524  14440885   \n2  0xa20c458d92ac0b656e3099900fb1fc6dfdf030a260ed...  24664468524  14440885   \n3  0x49264c938245b3733c9df240811b0fb3b475f36837c3...  17572318499  14440901   \n4  0x1b1dc1b538485797da9663e641e683d962227fb662d1...  22572020792  14440916   \n\n    timestamp     gas  priority_fee  \n0  1648015210  215887    1500000000  \n1  1648015718  284939    1500000000  \n2  1648015718  284939    1500000000  \n3  1648015904  259918    1500000000  \n4  1648016125  215887    1363280649  ",
      "text/html": "<div>\n<style scoped>\n    .dataframe tbody tr th:only-of-type {\n        vertical-align: middle;\n    }\n\n    .dataframe tbody tr th {\n        vertical-align: top;\n    }\n\n    .dataframe thead th {\n        text-align: right;\n    }\n</style>\n<table border=\"1\" class=\"dataframe\">\n  <thead>\n    <tr style=\"text-align: right;\">\n      <th></th>\n      <th>_sa_instance_state</th>\n      <th>contract</th>\n      <th>id</th>\n      <th>tx</th>\n      <th>gas_price</th>\n      <th>block</th>\n      <th>timestamp</th>\n      <th>gas</th>\n      <th>priority_fee</th>\n    </tr>\n  </thead>\n  <tbody>\n    <tr>\n      <th>0</th>\n      <td>&lt;sqlalchemy.orm.state.InstanceState object at ...</td>\n      <td>0x1a2a1c938ce3ec39b6d47113c7955baa9dd454f2</td>\n      <td>15607</td>\n      <td>0xef487a8e3480568fedd25446efd91adf39707dfbabb3...</td>\n      <td>22476838932</td>\n      <td>14440847</td>\n      <td>1648015210</td>\n      <td>215887</td>\n      <td>1500000000</td>\n    </tr>\n    <tr>\n      <th>1</th>\n      <td>&lt;sqlalchemy.orm.state.InstanceState object at ...</td>\n      <td>0x1a2a1c938ce3ec39b6d47113c7955baa9dd454f2</td>\n      <td>16322</td>\n      <td>0xe8f951c1bd4e2ed1525de51e3e98c9c0c36f013c2634...</td>\n      <td>24664468524</td>\n      <td>14440885</td>\n      <td>1648015718</td>\n      <td>284939</td>\n      <td>1500000000</td>\n    </tr>\n    <tr>\n      <th>2</th>\n      <td>&lt;sqlalchemy.orm.state.InstanceState object at ...</td>\n      <td>0x1a2a1c938ce3ec39b6d47113c7955baa9dd454f2</td>\n      <td>16328</td>\n      <td>0xa20c458d92ac0b656e3099900fb1fc6dfdf030a260ed...</td>\n      <td>24664468524</td>\n      <td>14440885</td>\n      <td>1648015718</td>\n      <td>284939</td>\n      <td>1500000000</td>\n    </tr>\n    <tr>\n      <th>3</th>\n      <td>&lt;sqlalchemy.orm.state.InstanceState object at ...</td>\n      <td>0x1a2a1c938ce3ec39b6d47113c7955baa9dd454f2</td>\n      <td>16566</td>\n      <td>0x49264c938245b3733c9df240811b0fb3b475f36837c3...</td>\n      <td>17572318499</td>\n      <td>14440901</td>\n      <td>1648015904</td>\n      <td>259918</td>\n      <td>1500000000</td>\n    </tr>\n    <tr>\n      <th>4</th>\n      <td>&lt;sqlalchemy.orm.state.InstanceState object at ...</td>\n      <td>0x1a2a1c938ce3ec39b6d47113c7955baa9dd454f2</td>\n      <td>16802</td>\n      <td>0x1b1dc1b538485797da9663e641e683d962227fb662d1...</td>\n      <td>22572020792</td>\n      <td>14440916</td>\n      <td>1648016125</td>\n      <td>215887</td>\n      <td>1363280649</td>\n    </tr>\n  </tbody>\n</table>\n</div>"
     },
     "execution_count": 71,
     "metadata": {},
     "output_type": "execute_result"
    }
   ],
   "source": [
    "df.head()"
   ],
   "metadata": {
    "collapsed": false,
    "pycharm": {
     "name": "#%%\n"
    }
   }
  },
  {
   "cell_type": "code",
   "execution_count": 72,
   "outputs": [],
   "source": [
    "df['timestamp'] = pd.to_datetime(df['timestamp'], unit='s')"
   ],
   "metadata": {
    "collapsed": false,
    "pycharm": {
     "name": "#%%\n"
    }
   }
  },
  {
   "cell_type": "code",
   "execution_count": 73,
   "outputs": [
    {
     "name": "stderr",
     "output_type": "stream",
     "text": [
      "/tmp/ipykernel_3211666/2237449792.py:1: FutureWarning:\n",
      "\n",
      "Dropping invalid columns in DataFrameGroupBy.max is deprecated. In a future version, a TypeError will be raised. Before calling .max, select only columns which should be valid for the function.\n",
      "\n"
     ]
    }
   ],
   "source": [
    "df = df.set_index('timestamp').resample('30Min').max().reset_index()"
   ],
   "metadata": {
    "collapsed": false,
    "pycharm": {
     "name": "#%%\n"
    }
   }
  },
  {
   "cell_type": "code",
   "execution_count": 74,
   "outputs": [
    {
     "data": {
      "text/plain": "            timestamp                                    contract       id  \\\n0 2022-03-23 06:00:00  0x1a2a1c938ce3ec39b6d47113c7955baa9dd454f2  17862.0   \n1 2022-03-23 06:30:00  0x1a2a1c938ce3ec39b6d47113c7955baa9dd454f2  19854.0   \n2 2022-03-23 07:00:00  0x1a2a1c938ce3ec39b6d47113c7955baa9dd454f2  21831.0   \n3 2022-03-23 07:30:00  0x1a2a1c938ce3ec39b6d47113c7955baa9dd454f2  24047.0   \n4 2022-03-23 08:00:00  0x1a2a1c938ce3ec39b6d47113c7955baa9dd454f2  25936.0   \n\n                                                  tx     gas_price  \\\n0  0xef487a8e3480568fedd25446efd91adf39707dfbabb3...  2.555476e+10   \n1  0xd417ed64a378f4da0df8ba56ab0f18da7b98aad24db7...  3.324477e+10   \n2  0xfd7921ded583545216b0ceeedd72a7d7cae7c8be5f35...  2.495704e+10   \n3  0xfababc0bd3abc069d4456129bd93095b76a3fc239897...  2.828676e+10   \n4  0xda7e8681fab448b17b32739ef15dd867760c05baa936...  2.536580e+10   \n\n        block       gas  priority_fee  \n0  14440973.0  284939.0  1.500000e+09  \n1  14441096.0  290813.0  1.500000e+09  \n2  14441215.0  293117.0  2.064659e+09  \n3  14441342.0  284817.0  2.000000e+09  \n4  14441462.0  312822.0  2.000000e+09  ",
      "text/html": "<div>\n<style scoped>\n    .dataframe tbody tr th:only-of-type {\n        vertical-align: middle;\n    }\n\n    .dataframe tbody tr th {\n        vertical-align: top;\n    }\n\n    .dataframe thead th {\n        text-align: right;\n    }\n</style>\n<table border=\"1\" class=\"dataframe\">\n  <thead>\n    <tr style=\"text-align: right;\">\n      <th></th>\n      <th>timestamp</th>\n      <th>contract</th>\n      <th>id</th>\n      <th>tx</th>\n      <th>gas_price</th>\n      <th>block</th>\n      <th>gas</th>\n      <th>priority_fee</th>\n    </tr>\n  </thead>\n  <tbody>\n    <tr>\n      <th>0</th>\n      <td>2022-03-23 06:00:00</td>\n      <td>0x1a2a1c938ce3ec39b6d47113c7955baa9dd454f2</td>\n      <td>17862.0</td>\n      <td>0xef487a8e3480568fedd25446efd91adf39707dfbabb3...</td>\n      <td>2.555476e+10</td>\n      <td>14440973.0</td>\n      <td>284939.0</td>\n      <td>1.500000e+09</td>\n    </tr>\n    <tr>\n      <th>1</th>\n      <td>2022-03-23 06:30:00</td>\n      <td>0x1a2a1c938ce3ec39b6d47113c7955baa9dd454f2</td>\n      <td>19854.0</td>\n      <td>0xd417ed64a378f4da0df8ba56ab0f18da7b98aad24db7...</td>\n      <td>3.324477e+10</td>\n      <td>14441096.0</td>\n      <td>290813.0</td>\n      <td>1.500000e+09</td>\n    </tr>\n    <tr>\n      <th>2</th>\n      <td>2022-03-23 07:00:00</td>\n      <td>0x1a2a1c938ce3ec39b6d47113c7955baa9dd454f2</td>\n      <td>21831.0</td>\n      <td>0xfd7921ded583545216b0ceeedd72a7d7cae7c8be5f35...</td>\n      <td>2.495704e+10</td>\n      <td>14441215.0</td>\n      <td>293117.0</td>\n      <td>2.064659e+09</td>\n    </tr>\n    <tr>\n      <th>3</th>\n      <td>2022-03-23 07:30:00</td>\n      <td>0x1a2a1c938ce3ec39b6d47113c7955baa9dd454f2</td>\n      <td>24047.0</td>\n      <td>0xfababc0bd3abc069d4456129bd93095b76a3fc239897...</td>\n      <td>2.828676e+10</td>\n      <td>14441342.0</td>\n      <td>284817.0</td>\n      <td>2.000000e+09</td>\n    </tr>\n    <tr>\n      <th>4</th>\n      <td>2022-03-23 08:00:00</td>\n      <td>0x1a2a1c938ce3ec39b6d47113c7955baa9dd454f2</td>\n      <td>25936.0</td>\n      <td>0xda7e8681fab448b17b32739ef15dd867760c05baa936...</td>\n      <td>2.536580e+10</td>\n      <td>14441462.0</td>\n      <td>312822.0</td>\n      <td>2.000000e+09</td>\n    </tr>\n  </tbody>\n</table>\n</div>"
     },
     "execution_count": 74,
     "metadata": {},
     "output_type": "execute_result"
    }
   ],
   "source": [
    "df.head()"
   ],
   "metadata": {
    "collapsed": false,
    "pycharm": {
     "name": "#%%\n"
    }
   }
  },
  {
   "cell_type": "code",
   "execution_count": 75,
   "outputs": [
    {
     "data": {
      "text/plain": "(173, 8)"
     },
     "execution_count": 75,
     "metadata": {},
     "output_type": "execute_result"
    }
   ],
   "source": [
    "df.shape"
   ],
   "metadata": {
    "collapsed": false,
    "pycharm": {
     "name": "#%%\n"
    }
   }
  },
  {
   "cell_type": "code",
   "execution_count": 76,
   "outputs": [],
   "source": [
    "df = df[(df['timestamp'] < '2022-04-10')]"
   ],
   "metadata": {
    "collapsed": false,
    "pycharm": {
     "name": "#%%\n"
    }
   }
  },
  {
   "cell_type": "code",
   "execution_count": 77,
   "outputs": [
    {
     "data": {
      "application/vnd.plotly.v1+json": {
       "data": [
        {
         "hovertemplate": "timestamp=%{x}<br>priority_fee=%{y}<extra></extra>",
         "legendgroup": "",
         "line": {
          "color": "#636efa",
          "dash": "solid"
         },
         "marker": {
          "symbol": "circle"
         },
         "mode": "lines",
         "name": "",
         "orientation": "v",
         "showlegend": false,
         "x": [
          "2022-03-23T06:00:00",
          "2022-03-23T06:30:00",
          "2022-03-23T07:00:00",
          "2022-03-23T07:30:00",
          "2022-03-23T08:00:00",
          "2022-03-23T08:30:00",
          "2022-03-23T09:00:00",
          "2022-03-23T09:30:00",
          "2022-03-23T10:00:00",
          "2022-03-23T10:30:00",
          "2022-03-23T11:00:00",
          "2022-03-23T11:30:00",
          "2022-03-23T12:00:00",
          "2022-03-23T12:30:00",
          "2022-03-23T13:00:00",
          "2022-03-23T13:30:00",
          "2022-03-23T14:00:00",
          "2022-03-23T14:30:00",
          "2022-03-23T15:00:00",
          "2022-03-23T15:30:00",
          "2022-03-23T16:00:00",
          "2022-03-23T16:30:00",
          "2022-03-23T17:00:00",
          "2022-03-23T17:30:00",
          "2022-03-23T18:00:00",
          "2022-03-23T18:30:00",
          "2022-03-23T19:00:00",
          "2022-03-23T19:30:00",
          "2022-03-23T20:00:00",
          "2022-03-23T20:30:00",
          "2022-03-23T21:00:00",
          "2022-03-23T21:30:00",
          "2022-03-23T22:00:00",
          "2022-03-23T22:30:00",
          "2022-03-23T23:00:00",
          "2022-03-23T23:30:00",
          "2022-03-24T00:00:00",
          "2022-03-24T00:30:00",
          "2022-03-24T01:00:00",
          "2022-03-24T01:30:00",
          "2022-03-24T02:00:00",
          "2022-03-24T02:30:00",
          "2022-03-24T03:00:00",
          "2022-03-24T03:30:00",
          "2022-03-24T04:00:00",
          "2022-03-24T04:30:00",
          "2022-03-24T05:00:00",
          "2022-03-24T05:30:00",
          "2022-03-24T06:00:00",
          "2022-03-24T06:30:00",
          "2022-03-24T07:00:00",
          "2022-03-24T07:30:00",
          "2022-03-24T08:00:00",
          "2022-03-24T08:30:00",
          "2022-03-24T09:00:00",
          "2022-03-24T09:30:00",
          "2022-03-24T10:00:00",
          "2022-03-24T10:30:00",
          "2022-03-24T11:00:00",
          "2022-03-24T11:30:00",
          "2022-03-24T12:00:00",
          "2022-03-24T12:30:00",
          "2022-03-24T13:00:00",
          "2022-03-24T13:30:00",
          "2022-03-24T14:00:00",
          "2022-03-24T14:30:00",
          "2022-03-24T15:00:00",
          "2022-03-24T15:30:00",
          "2022-03-24T16:00:00",
          "2022-03-24T16:30:00",
          "2022-03-24T17:00:00",
          "2022-03-24T17:30:00",
          "2022-03-24T18:00:00",
          "2022-03-24T18:30:00",
          "2022-03-24T19:00:00",
          "2022-03-24T19:30:00",
          "2022-03-24T20:00:00",
          "2022-03-24T20:30:00",
          "2022-03-24T21:00:00",
          "2022-03-24T21:30:00",
          "2022-03-24T22:00:00",
          "2022-03-24T22:30:00",
          "2022-03-24T23:00:00",
          "2022-03-24T23:30:00",
          "2022-03-25T00:00:00",
          "2022-03-25T00:30:00",
          "2022-03-25T01:00:00",
          "2022-03-25T01:30:00",
          "2022-03-25T02:00:00",
          "2022-03-25T02:30:00",
          "2022-03-25T03:00:00",
          "2022-03-25T03:30:00",
          "2022-03-25T04:00:00",
          "2022-03-25T04:30:00",
          "2022-03-25T05:00:00",
          "2022-03-25T05:30:00",
          "2022-03-25T06:00:00",
          "2022-03-25T06:30:00",
          "2022-03-25T07:00:00",
          "2022-03-25T07:30:00",
          "2022-03-25T08:00:00",
          "2022-03-25T08:30:00",
          "2022-03-25T09:00:00",
          "2022-03-25T09:30:00",
          "2022-03-25T10:00:00",
          "2022-03-25T10:30:00",
          "2022-03-25T11:00:00",
          "2022-03-25T11:30:00",
          "2022-03-25T12:00:00",
          "2022-03-25T12:30:00",
          "2022-03-25T13:00:00",
          "2022-03-25T13:30:00",
          "2022-03-25T14:00:00",
          "2022-03-25T14:30:00",
          "2022-03-25T15:00:00",
          "2022-03-25T15:30:00",
          "2022-03-25T16:00:00",
          "2022-03-25T16:30:00",
          "2022-03-25T17:00:00",
          "2022-03-25T17:30:00",
          "2022-03-25T18:00:00",
          "2022-03-25T18:30:00",
          "2022-03-25T19:00:00",
          "2022-03-25T19:30:00",
          "2022-03-25T20:00:00",
          "2022-03-25T20:30:00",
          "2022-03-25T21:00:00",
          "2022-03-25T21:30:00",
          "2022-03-25T22:00:00",
          "2022-03-25T22:30:00",
          "2022-03-25T23:00:00",
          "2022-03-25T23:30:00",
          "2022-03-26T00:00:00",
          "2022-03-26T00:30:00",
          "2022-03-26T01:00:00",
          "2022-03-26T01:30:00",
          "2022-03-26T02:00:00",
          "2022-03-26T02:30:00",
          "2022-03-26T03:00:00",
          "2022-03-26T03:30:00",
          "2022-03-26T04:00:00",
          "2022-03-26T04:30:00",
          "2022-03-26T05:00:00",
          "2022-03-26T05:30:00",
          "2022-03-26T06:00:00",
          "2022-03-26T06:30:00",
          "2022-03-26T07:00:00",
          "2022-03-26T07:30:00",
          "2022-03-26T08:00:00",
          "2022-03-26T08:30:00",
          "2022-03-26T09:00:00",
          "2022-03-26T09:30:00",
          "2022-03-26T10:00:00",
          "2022-03-26T10:30:00",
          "2022-03-26T11:00:00",
          "2022-03-26T11:30:00",
          "2022-03-26T12:00:00",
          "2022-03-26T12:30:00",
          "2022-03-26T13:00:00",
          "2022-03-26T13:30:00",
          "2022-03-26T14:00:00",
          "2022-03-26T14:30:00",
          "2022-03-26T15:00:00",
          "2022-03-26T15:30:00",
          "2022-03-26T16:00:00",
          "2022-03-26T16:30:00",
          "2022-03-26T17:00:00",
          "2022-03-26T17:30:00",
          "2022-03-26T18:00:00",
          "2022-03-26T18:30:00",
          "2022-03-26T19:00:00",
          "2022-03-26T19:30:00",
          "2022-03-26T20:00:00"
         ],
         "xaxis": "x",
         "y": [
          1.5E9,
          1.5E9,
          2.064658852E9,
          2.0E9,
          2.0E9,
          4.0E9,
          1.764384637E9,
          2.0E9,
          2.0E9,
          1.5E9,
          1.65E9,
          1.5E9,
          2.0E9,
          2.0E9,
          6.6848563939E10,
          6.4866976836E10,
          2.0E9,
          3.038836579E9,
          2.0E9,
          1.5E9,
          1.5E9,
          2.0E9,
          7.0E9,
          1.77058562E9,
          2.0E9,
          1.5E9,
          2.0E9,
          2.0E9,
          1.717468051E9,
          1.5E9,
          1.5E9,
          1.5E9,
          null,
          null,
          null,
          1.5E9,
          null,
          null,
          1.5E9,
          5.491913635E9,
          3.371876842E9,
          2.0E9,
          2.0E10,
          1.0E10,
          1.5E9,
          1.5E9,
          2.059461434E9,
          1.5E9,
          2.0E9,
          1.5E9,
          2.0E9,
          1.5E9,
          8.498443053E9,
          2.0E9,
          2.0E9,
          1.67350129E9,
          1.94E9,
          2.0E9,
          1.791914903E9,
          2.0E9,
          1.5E9,
          1.5E9,
          1.5E9,
          2.0E9,
          2.0E9,
          2.0E9,
          2.0E9,
          1.5E9,
          2.0E9,
          3.701525736E9,
          1.5E9,
          2.0E9,
          1.5E9,
          1.5E9,
          1.5E9,
          2.0E9,
          1.8818E9,
          1.94E9,
          1.791757697E9,
          1.51E9,
          1.5E9,
          1.5E9,
          2.0E9,
          1.5E9,
          2.0E9,
          1.5E9,
          1.5E9,
          2.0E9,
          1.5E9,
          2.0E9,
          1.65E9,
          1.5E9,
          1.5E9,
          2.2815979171E10,
          1.5E9,
          2.0E9,
          1.5E9,
          1.551E9,
          1.65E9,
          1.5E9,
          1.5E9,
          1.5E9,
          1.5E9,
          1.5E9,
          1.5E9,
          1.5E9,
          1.5E9,
          2.0E9,
          1.5E9,
          1.5E9,
          1.57855694E9,
          1.5E9,
          2.778778876E9,
          1.5E9,
          1.94E9,
          1.5E9,
          1.5E9,
          1.94E9,
          2.0E9,
          2.0E9,
          2.0E9,
          1.5E9,
          4.0E9,
          2.0E9,
          1.5E9,
          1.5E9,
          1.5E9,
          2.0E9,
          1.5E9,
          2.0E9,
          1.94E9,
          2.0E9,
          1.5E9,
          2.0E9,
          1.5E9,
          1.5E9,
          2.0E9,
          3.0E9,
          1.8758804927E10,
          2.0E9,
          2.0E9,
          1.5E9,
          1.5E9,
          1.547887612E9,
          1.5E9,
          1.5E9,
          2.45E9,
          1.94E9,
          1.5E9,
          1.5E9,
          1.5E9,
          1.5E9,
          1.5E9,
          2.312948904E10,
          1.5E9,
          1.712665081E9,
          2.191337741E10,
          1.5E9,
          2.0E9,
          1.5E9,
          1.5E9,
          1.5E9,
          1.5E9,
          2.0E9,
          2.0E9,
          1.5E9,
          2.0E9,
          1.5E9,
          2.0E9,
          1.5E9,
          1.5E9,
          2.0E9,
          2.0E9
         ],
         "yaxis": "y",
         "type": "scatter"
        }
       ],
       "layout": {
        "template": {
         "data": {
          "histogram2dcontour": [
           {
            "type": "histogram2dcontour",
            "colorbar": {
             "outlinewidth": 0,
             "ticks": ""
            },
            "colorscale": [
             [
              0.0,
              "#0d0887"
             ],
             [
              0.1111111111111111,
              "#46039f"
             ],
             [
              0.2222222222222222,
              "#7201a8"
             ],
             [
              0.3333333333333333,
              "#9c179e"
             ],
             [
              0.4444444444444444,
              "#bd3786"
             ],
             [
              0.5555555555555556,
              "#d8576b"
             ],
             [
              0.6666666666666666,
              "#ed7953"
             ],
             [
              0.7777777777777778,
              "#fb9f3a"
             ],
             [
              0.8888888888888888,
              "#fdca26"
             ],
             [
              1.0,
              "#f0f921"
             ]
            ]
           }
          ],
          "choropleth": [
           {
            "type": "choropleth",
            "colorbar": {
             "outlinewidth": 0,
             "ticks": ""
            }
           }
          ],
          "histogram2d": [
           {
            "type": "histogram2d",
            "colorbar": {
             "outlinewidth": 0,
             "ticks": ""
            },
            "colorscale": [
             [
              0.0,
              "#0d0887"
             ],
             [
              0.1111111111111111,
              "#46039f"
             ],
             [
              0.2222222222222222,
              "#7201a8"
             ],
             [
              0.3333333333333333,
              "#9c179e"
             ],
             [
              0.4444444444444444,
              "#bd3786"
             ],
             [
              0.5555555555555556,
              "#d8576b"
             ],
             [
              0.6666666666666666,
              "#ed7953"
             ],
             [
              0.7777777777777778,
              "#fb9f3a"
             ],
             [
              0.8888888888888888,
              "#fdca26"
             ],
             [
              1.0,
              "#f0f921"
             ]
            ]
           }
          ],
          "heatmap": [
           {
            "type": "heatmap",
            "colorbar": {
             "outlinewidth": 0,
             "ticks": ""
            },
            "colorscale": [
             [
              0.0,
              "#0d0887"
             ],
             [
              0.1111111111111111,
              "#46039f"
             ],
             [
              0.2222222222222222,
              "#7201a8"
             ],
             [
              0.3333333333333333,
              "#9c179e"
             ],
             [
              0.4444444444444444,
              "#bd3786"
             ],
             [
              0.5555555555555556,
              "#d8576b"
             ],
             [
              0.6666666666666666,
              "#ed7953"
             ],
             [
              0.7777777777777778,
              "#fb9f3a"
             ],
             [
              0.8888888888888888,
              "#fdca26"
             ],
             [
              1.0,
              "#f0f921"
             ]
            ]
           }
          ],
          "heatmapgl": [
           {
            "type": "heatmapgl",
            "colorbar": {
             "outlinewidth": 0,
             "ticks": ""
            },
            "colorscale": [
             [
              0.0,
              "#0d0887"
             ],
             [
              0.1111111111111111,
              "#46039f"
             ],
             [
              0.2222222222222222,
              "#7201a8"
             ],
             [
              0.3333333333333333,
              "#9c179e"
             ],
             [
              0.4444444444444444,
              "#bd3786"
             ],
             [
              0.5555555555555556,
              "#d8576b"
             ],
             [
              0.6666666666666666,
              "#ed7953"
             ],
             [
              0.7777777777777778,
              "#fb9f3a"
             ],
             [
              0.8888888888888888,
              "#fdca26"
             ],
             [
              1.0,
              "#f0f921"
             ]
            ]
           }
          ],
          "contourcarpet": [
           {
            "type": "contourcarpet",
            "colorbar": {
             "outlinewidth": 0,
             "ticks": ""
            }
           }
          ],
          "contour": [
           {
            "type": "contour",
            "colorbar": {
             "outlinewidth": 0,
             "ticks": ""
            },
            "colorscale": [
             [
              0.0,
              "#0d0887"
             ],
             [
              0.1111111111111111,
              "#46039f"
             ],
             [
              0.2222222222222222,
              "#7201a8"
             ],
             [
              0.3333333333333333,
              "#9c179e"
             ],
             [
              0.4444444444444444,
              "#bd3786"
             ],
             [
              0.5555555555555556,
              "#d8576b"
             ],
             [
              0.6666666666666666,
              "#ed7953"
             ],
             [
              0.7777777777777778,
              "#fb9f3a"
             ],
             [
              0.8888888888888888,
              "#fdca26"
             ],
             [
              1.0,
              "#f0f921"
             ]
            ]
           }
          ],
          "surface": [
           {
            "type": "surface",
            "colorbar": {
             "outlinewidth": 0,
             "ticks": ""
            },
            "colorscale": [
             [
              0.0,
              "#0d0887"
             ],
             [
              0.1111111111111111,
              "#46039f"
             ],
             [
              0.2222222222222222,
              "#7201a8"
             ],
             [
              0.3333333333333333,
              "#9c179e"
             ],
             [
              0.4444444444444444,
              "#bd3786"
             ],
             [
              0.5555555555555556,
              "#d8576b"
             ],
             [
              0.6666666666666666,
              "#ed7953"
             ],
             [
              0.7777777777777778,
              "#fb9f3a"
             ],
             [
              0.8888888888888888,
              "#fdca26"
             ],
             [
              1.0,
              "#f0f921"
             ]
            ]
           }
          ],
          "mesh3d": [
           {
            "type": "mesh3d",
            "colorbar": {
             "outlinewidth": 0,
             "ticks": ""
            }
           }
          ],
          "scatter": [
           {
            "marker": {
             "line": {
              "color": "#283442"
             }
            },
            "type": "scatter"
           }
          ],
          "parcoords": [
           {
            "type": "parcoords",
            "line": {
             "colorbar": {
              "outlinewidth": 0,
              "ticks": ""
             }
            }
           }
          ],
          "scatterpolargl": [
           {
            "type": "scatterpolargl",
            "marker": {
             "colorbar": {
              "outlinewidth": 0,
              "ticks": ""
             }
            }
           }
          ],
          "bar": [
           {
            "error_x": {
             "color": "#f2f5fa"
            },
            "error_y": {
             "color": "#f2f5fa"
            },
            "marker": {
             "line": {
              "color": "rgb(17,17,17)",
              "width": 0.5
             },
             "pattern": {
              "fillmode": "overlay",
              "size": 10,
              "solidity": 0.2
             }
            },
            "type": "bar"
           }
          ],
          "scattergeo": [
           {
            "type": "scattergeo",
            "marker": {
             "colorbar": {
              "outlinewidth": 0,
              "ticks": ""
             }
            }
           }
          ],
          "scatterpolar": [
           {
            "type": "scatterpolar",
            "marker": {
             "colorbar": {
              "outlinewidth": 0,
              "ticks": ""
             }
            }
           }
          ],
          "histogram": [
           {
            "marker": {
             "pattern": {
              "fillmode": "overlay",
              "size": 10,
              "solidity": 0.2
             }
            },
            "type": "histogram"
           }
          ],
          "scattergl": [
           {
            "marker": {
             "line": {
              "color": "#283442"
             }
            },
            "type": "scattergl"
           }
          ],
          "scatter3d": [
           {
            "type": "scatter3d",
            "line": {
             "colorbar": {
              "outlinewidth": 0,
              "ticks": ""
             }
            },
            "marker": {
             "colorbar": {
              "outlinewidth": 0,
              "ticks": ""
             }
            }
           }
          ],
          "scattermapbox": [
           {
            "type": "scattermapbox",
            "marker": {
             "colorbar": {
              "outlinewidth": 0,
              "ticks": ""
             }
            }
           }
          ],
          "scatterternary": [
           {
            "type": "scatterternary",
            "marker": {
             "colorbar": {
              "outlinewidth": 0,
              "ticks": ""
             }
            }
           }
          ],
          "scattercarpet": [
           {
            "type": "scattercarpet",
            "marker": {
             "colorbar": {
              "outlinewidth": 0,
              "ticks": ""
             }
            }
           }
          ],
          "carpet": [
           {
            "aaxis": {
             "endlinecolor": "#A2B1C6",
             "gridcolor": "#506784",
             "linecolor": "#506784",
             "minorgridcolor": "#506784",
             "startlinecolor": "#A2B1C6"
            },
            "baxis": {
             "endlinecolor": "#A2B1C6",
             "gridcolor": "#506784",
             "linecolor": "#506784",
             "minorgridcolor": "#506784",
             "startlinecolor": "#A2B1C6"
            },
            "type": "carpet"
           }
          ],
          "table": [
           {
            "cells": {
             "fill": {
              "color": "#506784"
             },
             "line": {
              "color": "rgb(17,17,17)"
             }
            },
            "header": {
             "fill": {
              "color": "#2a3f5f"
             },
             "line": {
              "color": "rgb(17,17,17)"
             }
            },
            "type": "table"
           }
          ],
          "barpolar": [
           {
            "marker": {
             "line": {
              "color": "rgb(17,17,17)",
              "width": 0.5
             },
             "pattern": {
              "fillmode": "overlay",
              "size": 10,
              "solidity": 0.2
             }
            },
            "type": "barpolar"
           }
          ],
          "pie": [
           {
            "automargin": true,
            "type": "pie"
           }
          ]
         },
         "layout": {
          "autotypenumbers": "strict",
          "colorway": [
           "#636efa",
           "#EF553B",
           "#00cc96",
           "#ab63fa",
           "#FFA15A",
           "#19d3f3",
           "#FF6692",
           "#B6E880",
           "#FF97FF",
           "#FECB52"
          ],
          "font": {
           "color": "#f2f5fa"
          },
          "hovermode": "closest",
          "hoverlabel": {
           "align": "left"
          },
          "paper_bgcolor": "rgb(17,17,17)",
          "plot_bgcolor": "rgb(17,17,17)",
          "polar": {
           "bgcolor": "rgb(17,17,17)",
           "angularaxis": {
            "gridcolor": "#506784",
            "linecolor": "#506784",
            "ticks": ""
           },
           "radialaxis": {
            "gridcolor": "#506784",
            "linecolor": "#506784",
            "ticks": ""
           }
          },
          "ternary": {
           "bgcolor": "rgb(17,17,17)",
           "aaxis": {
            "gridcolor": "#506784",
            "linecolor": "#506784",
            "ticks": ""
           },
           "baxis": {
            "gridcolor": "#506784",
            "linecolor": "#506784",
            "ticks": ""
           },
           "caxis": {
            "gridcolor": "#506784",
            "linecolor": "#506784",
            "ticks": ""
           }
          },
          "coloraxis": {
           "colorbar": {
            "outlinewidth": 0,
            "ticks": ""
           }
          },
          "colorscale": {
           "sequential": [
            [
             0.0,
             "#0d0887"
            ],
            [
             0.1111111111111111,
             "#46039f"
            ],
            [
             0.2222222222222222,
             "#7201a8"
            ],
            [
             0.3333333333333333,
             "#9c179e"
            ],
            [
             0.4444444444444444,
             "#bd3786"
            ],
            [
             0.5555555555555556,
             "#d8576b"
            ],
            [
             0.6666666666666666,
             "#ed7953"
            ],
            [
             0.7777777777777778,
             "#fb9f3a"
            ],
            [
             0.8888888888888888,
             "#fdca26"
            ],
            [
             1.0,
             "#f0f921"
            ]
           ],
           "sequentialminus": [
            [
             0.0,
             "#0d0887"
            ],
            [
             0.1111111111111111,
             "#46039f"
            ],
            [
             0.2222222222222222,
             "#7201a8"
            ],
            [
             0.3333333333333333,
             "#9c179e"
            ],
            [
             0.4444444444444444,
             "#bd3786"
            ],
            [
             0.5555555555555556,
             "#d8576b"
            ],
            [
             0.6666666666666666,
             "#ed7953"
            ],
            [
             0.7777777777777778,
             "#fb9f3a"
            ],
            [
             0.8888888888888888,
             "#fdca26"
            ],
            [
             1.0,
             "#f0f921"
            ]
           ],
           "diverging": [
            [
             0,
             "#8e0152"
            ],
            [
             0.1,
             "#c51b7d"
            ],
            [
             0.2,
             "#de77ae"
            ],
            [
             0.3,
             "#f1b6da"
            ],
            [
             0.4,
             "#fde0ef"
            ],
            [
             0.5,
             "#f7f7f7"
            ],
            [
             0.6,
             "#e6f5d0"
            ],
            [
             0.7,
             "#b8e186"
            ],
            [
             0.8,
             "#7fbc41"
            ],
            [
             0.9,
             "#4d9221"
            ],
            [
             1,
             "#276419"
            ]
           ]
          },
          "xaxis": {
           "gridcolor": "#283442",
           "linecolor": "#506784",
           "ticks": "",
           "title": {
            "standoff": 15
           },
           "zerolinecolor": "#283442",
           "automargin": true,
           "zerolinewidth": 2
          },
          "yaxis": {
           "gridcolor": "#283442",
           "linecolor": "#506784",
           "ticks": "",
           "title": {
            "standoff": 15
           },
           "zerolinecolor": "#283442",
           "automargin": true,
           "zerolinewidth": 2
          },
          "scene": {
           "xaxis": {
            "backgroundcolor": "rgb(17,17,17)",
            "gridcolor": "#506784",
            "linecolor": "#506784",
            "showbackground": true,
            "ticks": "",
            "zerolinecolor": "#C8D4E3",
            "gridwidth": 2
           },
           "yaxis": {
            "backgroundcolor": "rgb(17,17,17)",
            "gridcolor": "#506784",
            "linecolor": "#506784",
            "showbackground": true,
            "ticks": "",
            "zerolinecolor": "#C8D4E3",
            "gridwidth": 2
           },
           "zaxis": {
            "backgroundcolor": "rgb(17,17,17)",
            "gridcolor": "#506784",
            "linecolor": "#506784",
            "showbackground": true,
            "ticks": "",
            "zerolinecolor": "#C8D4E3",
            "gridwidth": 2
           }
          },
          "shapedefaults": {
           "line": {
            "color": "#f2f5fa"
           }
          },
          "annotationdefaults": {
           "arrowcolor": "#f2f5fa",
           "arrowhead": 0,
           "arrowwidth": 1
          },
          "geo": {
           "bgcolor": "rgb(17,17,17)",
           "landcolor": "rgb(17,17,17)",
           "subunitcolor": "#506784",
           "showland": true,
           "showlakes": true,
           "lakecolor": "rgb(17,17,17)"
          },
          "title": {
           "x": 0.05
          },
          "updatemenudefaults": {
           "bgcolor": "#506784",
           "borderwidth": 0
          },
          "sliderdefaults": {
           "bgcolor": "#C8D4E3",
           "borderwidth": 1,
           "bordercolor": "rgb(17,17,17)",
           "tickwidth": 0
          },
          "mapbox": {
           "style": "dark"
          }
         }
        },
        "xaxis": {
         "anchor": "y",
         "domain": [
          0.0,
          1.0
         ],
         "title": {
          "text": "timestamp"
         },
         "rangeslider": {
          "visible": true
         },
         "rangeselector": {
          "buttons": [
           {
            "count": 1,
            "label": "1y",
            "step": "year",
            "stepmode": "backward"
           },
           {
            "count": 2,
            "label": "2y",
            "step": "year",
            "stepmode": "backward"
           },
           {
            "count": 2,
            "label": "5y",
            "step": "year",
            "stepmode": "backward"
           }
          ]
         }
        },
        "yaxis": {
         "anchor": "x",
         "domain": [
          0.0,
          1.0
         ],
         "title": {
          "text": "priority_fee"
         }
        },
        "legend": {
         "tracegroupgap": 0
        },
        "title": {
         "text": "NYC Taxi Demand"
        }
       },
       "config": {
        "plotlyServerURL": "https://plot.ly"
       }
      },
      "text/html": "<div>                            <div id=\"248ccd06-8749-45c1-b8b5-ad221dfd2b2d\" class=\"plotly-graph-div\" style=\"height:525px; width:100%;\"></div>            <script type=\"text/javascript\">                require([\"plotly\"], function(Plotly) {                    window.PLOTLYENV=window.PLOTLYENV || {};                                    if (document.getElementById(\"248ccd06-8749-45c1-b8b5-ad221dfd2b2d\")) {                    Plotly.newPlot(                        \"248ccd06-8749-45c1-b8b5-ad221dfd2b2d\",                        [{\"hovertemplate\":\"timestamp=%{x}<br>priority_fee=%{y}<extra></extra>\",\"legendgroup\":\"\",\"line\":{\"color\":\"#636efa\",\"dash\":\"solid\"},\"marker\":{\"symbol\":\"circle\"},\"mode\":\"lines\",\"name\":\"\",\"orientation\":\"v\",\"showlegend\":false,\"x\":[\"2022-03-23T06:00:00\",\"2022-03-23T06:30:00\",\"2022-03-23T07:00:00\",\"2022-03-23T07:30:00\",\"2022-03-23T08:00:00\",\"2022-03-23T08:30:00\",\"2022-03-23T09:00:00\",\"2022-03-23T09:30:00\",\"2022-03-23T10:00:00\",\"2022-03-23T10:30:00\",\"2022-03-23T11:00:00\",\"2022-03-23T11:30:00\",\"2022-03-23T12:00:00\",\"2022-03-23T12:30:00\",\"2022-03-23T13:00:00\",\"2022-03-23T13:30:00\",\"2022-03-23T14:00:00\",\"2022-03-23T14:30:00\",\"2022-03-23T15:00:00\",\"2022-03-23T15:30:00\",\"2022-03-23T16:00:00\",\"2022-03-23T16:30:00\",\"2022-03-23T17:00:00\",\"2022-03-23T17:30:00\",\"2022-03-23T18:00:00\",\"2022-03-23T18:30:00\",\"2022-03-23T19:00:00\",\"2022-03-23T19:30:00\",\"2022-03-23T20:00:00\",\"2022-03-23T20:30:00\",\"2022-03-23T21:00:00\",\"2022-03-23T21:30:00\",\"2022-03-23T22:00:00\",\"2022-03-23T22:30:00\",\"2022-03-23T23:00:00\",\"2022-03-23T23:30:00\",\"2022-03-24T00:00:00\",\"2022-03-24T00:30:00\",\"2022-03-24T01:00:00\",\"2022-03-24T01:30:00\",\"2022-03-24T02:00:00\",\"2022-03-24T02:30:00\",\"2022-03-24T03:00:00\",\"2022-03-24T03:30:00\",\"2022-03-24T04:00:00\",\"2022-03-24T04:30:00\",\"2022-03-24T05:00:00\",\"2022-03-24T05:30:00\",\"2022-03-24T06:00:00\",\"2022-03-24T06:30:00\",\"2022-03-24T07:00:00\",\"2022-03-24T07:30:00\",\"2022-03-24T08:00:00\",\"2022-03-24T08:30:00\",\"2022-03-24T09:00:00\",\"2022-03-24T09:30:00\",\"2022-03-24T10:00:00\",\"2022-03-24T10:30:00\",\"2022-03-24T11:00:00\",\"2022-03-24T11:30:00\",\"2022-03-24T12:00:00\",\"2022-03-24T12:30:00\",\"2022-03-24T13:00:00\",\"2022-03-24T13:30:00\",\"2022-03-24T14:00:00\",\"2022-03-24T14:30:00\",\"2022-03-24T15:00:00\",\"2022-03-24T15:30:00\",\"2022-03-24T16:00:00\",\"2022-03-24T16:30:00\",\"2022-03-24T17:00:00\",\"2022-03-24T17:30:00\",\"2022-03-24T18:00:00\",\"2022-03-24T18:30:00\",\"2022-03-24T19:00:00\",\"2022-03-24T19:30:00\",\"2022-03-24T20:00:00\",\"2022-03-24T20:30:00\",\"2022-03-24T21:00:00\",\"2022-03-24T21:30:00\",\"2022-03-24T22:00:00\",\"2022-03-24T22:30:00\",\"2022-03-24T23:00:00\",\"2022-03-24T23:30:00\",\"2022-03-25T00:00:00\",\"2022-03-25T00:30:00\",\"2022-03-25T01:00:00\",\"2022-03-25T01:30:00\",\"2022-03-25T02:00:00\",\"2022-03-25T02:30:00\",\"2022-03-25T03:00:00\",\"2022-03-25T03:30:00\",\"2022-03-25T04:00:00\",\"2022-03-25T04:30:00\",\"2022-03-25T05:00:00\",\"2022-03-25T05:30:00\",\"2022-03-25T06:00:00\",\"2022-03-25T06:30:00\",\"2022-03-25T07:00:00\",\"2022-03-25T07:30:00\",\"2022-03-25T08:00:00\",\"2022-03-25T08:30:00\",\"2022-03-25T09:00:00\",\"2022-03-25T09:30:00\",\"2022-03-25T10:00:00\",\"2022-03-25T10:30:00\",\"2022-03-25T11:00:00\",\"2022-03-25T11:30:00\",\"2022-03-25T12:00:00\",\"2022-03-25T12:30:00\",\"2022-03-25T13:00:00\",\"2022-03-25T13:30:00\",\"2022-03-25T14:00:00\",\"2022-03-25T14:30:00\",\"2022-03-25T15:00:00\",\"2022-03-25T15:30:00\",\"2022-03-25T16:00:00\",\"2022-03-25T16:30:00\",\"2022-03-25T17:00:00\",\"2022-03-25T17:30:00\",\"2022-03-25T18:00:00\",\"2022-03-25T18:30:00\",\"2022-03-25T19:00:00\",\"2022-03-25T19:30:00\",\"2022-03-25T20:00:00\",\"2022-03-25T20:30:00\",\"2022-03-25T21:00:00\",\"2022-03-25T21:30:00\",\"2022-03-25T22:00:00\",\"2022-03-25T22:30:00\",\"2022-03-25T23:00:00\",\"2022-03-25T23:30:00\",\"2022-03-26T00:00:00\",\"2022-03-26T00:30:00\",\"2022-03-26T01:00:00\",\"2022-03-26T01:30:00\",\"2022-03-26T02:00:00\",\"2022-03-26T02:30:00\",\"2022-03-26T03:00:00\",\"2022-03-26T03:30:00\",\"2022-03-26T04:00:00\",\"2022-03-26T04:30:00\",\"2022-03-26T05:00:00\",\"2022-03-26T05:30:00\",\"2022-03-26T06:00:00\",\"2022-03-26T06:30:00\",\"2022-03-26T07:00:00\",\"2022-03-26T07:30:00\",\"2022-03-26T08:00:00\",\"2022-03-26T08:30:00\",\"2022-03-26T09:00:00\",\"2022-03-26T09:30:00\",\"2022-03-26T10:00:00\",\"2022-03-26T10:30:00\",\"2022-03-26T11:00:00\",\"2022-03-26T11:30:00\",\"2022-03-26T12:00:00\",\"2022-03-26T12:30:00\",\"2022-03-26T13:00:00\",\"2022-03-26T13:30:00\",\"2022-03-26T14:00:00\",\"2022-03-26T14:30:00\",\"2022-03-26T15:00:00\",\"2022-03-26T15:30:00\",\"2022-03-26T16:00:00\",\"2022-03-26T16:30:00\",\"2022-03-26T17:00:00\",\"2022-03-26T17:30:00\",\"2022-03-26T18:00:00\",\"2022-03-26T18:30:00\",\"2022-03-26T19:00:00\",\"2022-03-26T19:30:00\",\"2022-03-26T20:00:00\"],\"xaxis\":\"x\",\"y\":[1500000000.0,1500000000.0,2064658852.0,2000000000.0,2000000000.0,4000000000.0,1764384637.0,2000000000.0,2000000000.0,1500000000.0,1650000000.0,1500000000.0,2000000000.0,2000000000.0,66848563939.0,64866976836.0,2000000000.0,3038836579.0,2000000000.0,1500000000.0,1500000000.0,2000000000.0,7000000000.0,1770585620.0,2000000000.0,1500000000.0,2000000000.0,2000000000.0,1717468051.0,1500000000.0,1500000000.0,1500000000.0,null,null,null,1500000000.0,null,null,1500000000.0,5491913635.0,3371876842.0,2000000000.0,20000000000.0,10000000000.0,1500000000.0,1500000000.0,2059461434.0,1500000000.0,2000000000.0,1500000000.0,2000000000.0,1500000000.0,8498443053.0,2000000000.0,2000000000.0,1673501290.0,1940000000.0,2000000000.0,1791914903.0,2000000000.0,1500000000.0,1500000000.0,1500000000.0,2000000000.0,2000000000.0,2000000000.0,2000000000.0,1500000000.0,2000000000.0,3701525736.0,1500000000.0,2000000000.0,1500000000.0,1500000000.0,1500000000.0,2000000000.0,1881800000.0,1940000000.0,1791757697.0,1510000000.0,1500000000.0,1500000000.0,2000000000.0,1500000000.0,2000000000.0,1500000000.0,1500000000.0,2000000000.0,1500000000.0,2000000000.0,1650000000.0,1500000000.0,1500000000.0,22815979171.0,1500000000.0,2000000000.0,1500000000.0,1551000000.0,1650000000.0,1500000000.0,1500000000.0,1500000000.0,1500000000.0,1500000000.0,1500000000.0,1500000000.0,1500000000.0,2000000000.0,1500000000.0,1500000000.0,1578556940.0,1500000000.0,2778778876.0,1500000000.0,1940000000.0,1500000000.0,1500000000.0,1940000000.0,2000000000.0,2000000000.0,2000000000.0,1500000000.0,4000000000.0,2000000000.0,1500000000.0,1500000000.0,1500000000.0,2000000000.0,1500000000.0,2000000000.0,1940000000.0,2000000000.0,1500000000.0,2000000000.0,1500000000.0,1500000000.0,2000000000.0,3000000000.0,18758804927.0,2000000000.0,2000000000.0,1500000000.0,1500000000.0,1547887612.0,1500000000.0,1500000000.0,2450000000.0,1940000000.0,1500000000.0,1500000000.0,1500000000.0,1500000000.0,1500000000.0,23129489040.0,1500000000.0,1712665081.0,21913377410.0,1500000000.0,2000000000.0,1500000000.0,1500000000.0,1500000000.0,1500000000.0,2000000000.0,2000000000.0,1500000000.0,2000000000.0,1500000000.0,2000000000.0,1500000000.0,1500000000.0,2000000000.0,2000000000.0],\"yaxis\":\"y\",\"type\":\"scatter\"}],                        {\"template\":{\"data\":{\"histogram2dcontour\":[{\"type\":\"histogram2dcontour\",\"colorbar\":{\"outlinewidth\":0,\"ticks\":\"\"},\"colorscale\":[[0.0,\"#0d0887\"],[0.1111111111111111,\"#46039f\"],[0.2222222222222222,\"#7201a8\"],[0.3333333333333333,\"#9c179e\"],[0.4444444444444444,\"#bd3786\"],[0.5555555555555556,\"#d8576b\"],[0.6666666666666666,\"#ed7953\"],[0.7777777777777778,\"#fb9f3a\"],[0.8888888888888888,\"#fdca26\"],[1.0,\"#f0f921\"]]}],\"choropleth\":[{\"type\":\"choropleth\",\"colorbar\":{\"outlinewidth\":0,\"ticks\":\"\"}}],\"histogram2d\":[{\"type\":\"histogram2d\",\"colorbar\":{\"outlinewidth\":0,\"ticks\":\"\"},\"colorscale\":[[0.0,\"#0d0887\"],[0.1111111111111111,\"#46039f\"],[0.2222222222222222,\"#7201a8\"],[0.3333333333333333,\"#9c179e\"],[0.4444444444444444,\"#bd3786\"],[0.5555555555555556,\"#d8576b\"],[0.6666666666666666,\"#ed7953\"],[0.7777777777777778,\"#fb9f3a\"],[0.8888888888888888,\"#fdca26\"],[1.0,\"#f0f921\"]]}],\"heatmap\":[{\"type\":\"heatmap\",\"colorbar\":{\"outlinewidth\":0,\"ticks\":\"\"},\"colorscale\":[[0.0,\"#0d0887\"],[0.1111111111111111,\"#46039f\"],[0.2222222222222222,\"#7201a8\"],[0.3333333333333333,\"#9c179e\"],[0.4444444444444444,\"#bd3786\"],[0.5555555555555556,\"#d8576b\"],[0.6666666666666666,\"#ed7953\"],[0.7777777777777778,\"#fb9f3a\"],[0.8888888888888888,\"#fdca26\"],[1.0,\"#f0f921\"]]}],\"heatmapgl\":[{\"type\":\"heatmapgl\",\"colorbar\":{\"outlinewidth\":0,\"ticks\":\"\"},\"colorscale\":[[0.0,\"#0d0887\"],[0.1111111111111111,\"#46039f\"],[0.2222222222222222,\"#7201a8\"],[0.3333333333333333,\"#9c179e\"],[0.4444444444444444,\"#bd3786\"],[0.5555555555555556,\"#d8576b\"],[0.6666666666666666,\"#ed7953\"],[0.7777777777777778,\"#fb9f3a\"],[0.8888888888888888,\"#fdca26\"],[1.0,\"#f0f921\"]]}],\"contourcarpet\":[{\"type\":\"contourcarpet\",\"colorbar\":{\"outlinewidth\":0,\"ticks\":\"\"}}],\"contour\":[{\"type\":\"contour\",\"colorbar\":{\"outlinewidth\":0,\"ticks\":\"\"},\"colorscale\":[[0.0,\"#0d0887\"],[0.1111111111111111,\"#46039f\"],[0.2222222222222222,\"#7201a8\"],[0.3333333333333333,\"#9c179e\"],[0.4444444444444444,\"#bd3786\"],[0.5555555555555556,\"#d8576b\"],[0.6666666666666666,\"#ed7953\"],[0.7777777777777778,\"#fb9f3a\"],[0.8888888888888888,\"#fdca26\"],[1.0,\"#f0f921\"]]}],\"surface\":[{\"type\":\"surface\",\"colorbar\":{\"outlinewidth\":0,\"ticks\":\"\"},\"colorscale\":[[0.0,\"#0d0887\"],[0.1111111111111111,\"#46039f\"],[0.2222222222222222,\"#7201a8\"],[0.3333333333333333,\"#9c179e\"],[0.4444444444444444,\"#bd3786\"],[0.5555555555555556,\"#d8576b\"],[0.6666666666666666,\"#ed7953\"],[0.7777777777777778,\"#fb9f3a\"],[0.8888888888888888,\"#fdca26\"],[1.0,\"#f0f921\"]]}],\"mesh3d\":[{\"type\":\"mesh3d\",\"colorbar\":{\"outlinewidth\":0,\"ticks\":\"\"}}],\"scatter\":[{\"marker\":{\"line\":{\"color\":\"#283442\"}},\"type\":\"scatter\"}],\"parcoords\":[{\"type\":\"parcoords\",\"line\":{\"colorbar\":{\"outlinewidth\":0,\"ticks\":\"\"}}}],\"scatterpolargl\":[{\"type\":\"scatterpolargl\",\"marker\":{\"colorbar\":{\"outlinewidth\":0,\"ticks\":\"\"}}}],\"bar\":[{\"error_x\":{\"color\":\"#f2f5fa\"},\"error_y\":{\"color\":\"#f2f5fa\"},\"marker\":{\"line\":{\"color\":\"rgb(17,17,17)\",\"width\":0.5},\"pattern\":{\"fillmode\":\"overlay\",\"size\":10,\"solidity\":0.2}},\"type\":\"bar\"}],\"scattergeo\":[{\"type\":\"scattergeo\",\"marker\":{\"colorbar\":{\"outlinewidth\":0,\"ticks\":\"\"}}}],\"scatterpolar\":[{\"type\":\"scatterpolar\",\"marker\":{\"colorbar\":{\"outlinewidth\":0,\"ticks\":\"\"}}}],\"histogram\":[{\"marker\":{\"pattern\":{\"fillmode\":\"overlay\",\"size\":10,\"solidity\":0.2}},\"type\":\"histogram\"}],\"scattergl\":[{\"marker\":{\"line\":{\"color\":\"#283442\"}},\"type\":\"scattergl\"}],\"scatter3d\":[{\"type\":\"scatter3d\",\"line\":{\"colorbar\":{\"outlinewidth\":0,\"ticks\":\"\"}},\"marker\":{\"colorbar\":{\"outlinewidth\":0,\"ticks\":\"\"}}}],\"scattermapbox\":[{\"type\":\"scattermapbox\",\"marker\":{\"colorbar\":{\"outlinewidth\":0,\"ticks\":\"\"}}}],\"scatterternary\":[{\"type\":\"scatterternary\",\"marker\":{\"colorbar\":{\"outlinewidth\":0,\"ticks\":\"\"}}}],\"scattercarpet\":[{\"type\":\"scattercarpet\",\"marker\":{\"colorbar\":{\"outlinewidth\":0,\"ticks\":\"\"}}}],\"carpet\":[{\"aaxis\":{\"endlinecolor\":\"#A2B1C6\",\"gridcolor\":\"#506784\",\"linecolor\":\"#506784\",\"minorgridcolor\":\"#506784\",\"startlinecolor\":\"#A2B1C6\"},\"baxis\":{\"endlinecolor\":\"#A2B1C6\",\"gridcolor\":\"#506784\",\"linecolor\":\"#506784\",\"minorgridcolor\":\"#506784\",\"startlinecolor\":\"#A2B1C6\"},\"type\":\"carpet\"}],\"table\":[{\"cells\":{\"fill\":{\"color\":\"#506784\"},\"line\":{\"color\":\"rgb(17,17,17)\"}},\"header\":{\"fill\":{\"color\":\"#2a3f5f\"},\"line\":{\"color\":\"rgb(17,17,17)\"}},\"type\":\"table\"}],\"barpolar\":[{\"marker\":{\"line\":{\"color\":\"rgb(17,17,17)\",\"width\":0.5},\"pattern\":{\"fillmode\":\"overlay\",\"size\":10,\"solidity\":0.2}},\"type\":\"barpolar\"}],\"pie\":[{\"automargin\":true,\"type\":\"pie\"}]},\"layout\":{\"autotypenumbers\":\"strict\",\"colorway\":[\"#636efa\",\"#EF553B\",\"#00cc96\",\"#ab63fa\",\"#FFA15A\",\"#19d3f3\",\"#FF6692\",\"#B6E880\",\"#FF97FF\",\"#FECB52\"],\"font\":{\"color\":\"#f2f5fa\"},\"hovermode\":\"closest\",\"hoverlabel\":{\"align\":\"left\"},\"paper_bgcolor\":\"rgb(17,17,17)\",\"plot_bgcolor\":\"rgb(17,17,17)\",\"polar\":{\"bgcolor\":\"rgb(17,17,17)\",\"angularaxis\":{\"gridcolor\":\"#506784\",\"linecolor\":\"#506784\",\"ticks\":\"\"},\"radialaxis\":{\"gridcolor\":\"#506784\",\"linecolor\":\"#506784\",\"ticks\":\"\"}},\"ternary\":{\"bgcolor\":\"rgb(17,17,17)\",\"aaxis\":{\"gridcolor\":\"#506784\",\"linecolor\":\"#506784\",\"ticks\":\"\"},\"baxis\":{\"gridcolor\":\"#506784\",\"linecolor\":\"#506784\",\"ticks\":\"\"},\"caxis\":{\"gridcolor\":\"#506784\",\"linecolor\":\"#506784\",\"ticks\":\"\"}},\"coloraxis\":{\"colorbar\":{\"outlinewidth\":0,\"ticks\":\"\"}},\"colorscale\":{\"sequential\":[[0.0,\"#0d0887\"],[0.1111111111111111,\"#46039f\"],[0.2222222222222222,\"#7201a8\"],[0.3333333333333333,\"#9c179e\"],[0.4444444444444444,\"#bd3786\"],[0.5555555555555556,\"#d8576b\"],[0.6666666666666666,\"#ed7953\"],[0.7777777777777778,\"#fb9f3a\"],[0.8888888888888888,\"#fdca26\"],[1.0,\"#f0f921\"]],\"sequentialminus\":[[0.0,\"#0d0887\"],[0.1111111111111111,\"#46039f\"],[0.2222222222222222,\"#7201a8\"],[0.3333333333333333,\"#9c179e\"],[0.4444444444444444,\"#bd3786\"],[0.5555555555555556,\"#d8576b\"],[0.6666666666666666,\"#ed7953\"],[0.7777777777777778,\"#fb9f3a\"],[0.8888888888888888,\"#fdca26\"],[1.0,\"#f0f921\"]],\"diverging\":[[0,\"#8e0152\"],[0.1,\"#c51b7d\"],[0.2,\"#de77ae\"],[0.3,\"#f1b6da\"],[0.4,\"#fde0ef\"],[0.5,\"#f7f7f7\"],[0.6,\"#e6f5d0\"],[0.7,\"#b8e186\"],[0.8,\"#7fbc41\"],[0.9,\"#4d9221\"],[1,\"#276419\"]]},\"xaxis\":{\"gridcolor\":\"#283442\",\"linecolor\":\"#506784\",\"ticks\":\"\",\"title\":{\"standoff\":15},\"zerolinecolor\":\"#283442\",\"automargin\":true,\"zerolinewidth\":2},\"yaxis\":{\"gridcolor\":\"#283442\",\"linecolor\":\"#506784\",\"ticks\":\"\",\"title\":{\"standoff\":15},\"zerolinecolor\":\"#283442\",\"automargin\":true,\"zerolinewidth\":2},\"scene\":{\"xaxis\":{\"backgroundcolor\":\"rgb(17,17,17)\",\"gridcolor\":\"#506784\",\"linecolor\":\"#506784\",\"showbackground\":true,\"ticks\":\"\",\"zerolinecolor\":\"#C8D4E3\",\"gridwidth\":2},\"yaxis\":{\"backgroundcolor\":\"rgb(17,17,17)\",\"gridcolor\":\"#506784\",\"linecolor\":\"#506784\",\"showbackground\":true,\"ticks\":\"\",\"zerolinecolor\":\"#C8D4E3\",\"gridwidth\":2},\"zaxis\":{\"backgroundcolor\":\"rgb(17,17,17)\",\"gridcolor\":\"#506784\",\"linecolor\":\"#506784\",\"showbackground\":true,\"ticks\":\"\",\"zerolinecolor\":\"#C8D4E3\",\"gridwidth\":2}},\"shapedefaults\":{\"line\":{\"color\":\"#f2f5fa\"}},\"annotationdefaults\":{\"arrowcolor\":\"#f2f5fa\",\"arrowhead\":0,\"arrowwidth\":1},\"geo\":{\"bgcolor\":\"rgb(17,17,17)\",\"landcolor\":\"rgb(17,17,17)\",\"subunitcolor\":\"#506784\",\"showland\":true,\"showlakes\":true,\"lakecolor\":\"rgb(17,17,17)\"},\"title\":{\"x\":0.05},\"updatemenudefaults\":{\"bgcolor\":\"#506784\",\"borderwidth\":0},\"sliderdefaults\":{\"bgcolor\":\"#C8D4E3\",\"borderwidth\":1,\"bordercolor\":\"rgb(17,17,17)\",\"tickwidth\":0},\"mapbox\":{\"style\":\"dark\"}}},\"xaxis\":{\"anchor\":\"y\",\"domain\":[0.0,1.0],\"title\":{\"text\":\"timestamp\"},\"rangeslider\":{\"visible\":true},\"rangeselector\":{\"buttons\":[{\"count\":1,\"label\":\"1y\",\"step\":\"year\",\"stepmode\":\"backward\"},{\"count\":2,\"label\":\"2y\",\"step\":\"year\",\"stepmode\":\"backward\"},{\"count\":2,\"label\":\"5y\",\"step\":\"year\",\"stepmode\":\"backward\"}]}},\"yaxis\":{\"anchor\":\"x\",\"domain\":[0.0,1.0],\"title\":{\"text\":\"priority_fee\"}},\"legend\":{\"tracegroupgap\":0},\"title\":{\"text\":\"NYC Taxi Demand\"}},                        {\"responsive\": true}                    ).then(function(){\n                            \nvar gd = document.getElementById('248ccd06-8749-45c1-b8b5-ad221dfd2b2d');\nvar x = new MutationObserver(function (mutations, observer) {{\n        var display = window.getComputedStyle(gd).display;\n        if (!display || display === 'none') {{\n            console.log([gd, 'removed!']);\n            Plotly.purge(gd);\n            observer.disconnect();\n        }}\n}});\n\n// Listen for the removal of the full notebook cells\nvar notebookContainer = gd.closest('#notebook-container');\nif (notebookContainer) {{\n    x.observe(notebookContainer, {childList: true});\n}}\n\n// Listen for the clearing of the current output cell\nvar outputEl = gd.closest('.output');\nif (outputEl) {{\n    x.observe(outputEl, {childList: true});\n}}\n\n                        })                };                });            </script>        </div>"
     },
     "metadata": {},
     "output_type": "display_data"
    }
   ],
   "source": [
    "fig = px.line(df.reset_index(), x='timestamp', y='priority_fee', title='NYC Taxi Demand')\n",
    "#slider\n",
    "fig.update_xaxes(\n",
    "    # rangeslider_visible = True,\n",
    "    # rangeselector = dict(\n",
    "    #     buttons = list([\n",
    "    #           dict(count=1, label='1y', step=\"year\", stepmode=\"backward\"),\n",
    "    #           dict(count=2, label='2y', step=\"year\", stepmode=\"backward\"),\n",
    "    #           dict(count=2, label='5y', step=\"year\", stepmode=\"backward\")\n",
    "    #     ])\n",
    "    # )\n",
    ")\n",
    "fig.show()"
   ],
   "metadata": {
    "collapsed": false,
    "pycharm": {
     "name": "#%%\n"
    }
   }
  },
  {
   "cell_type": "code",
   "execution_count": 78,
   "outputs": [],
   "source": [
    "from prophet import Prophet\n",
    "taxi_df = df.reset_index()[['timestamp', 'priority_fee']].rename({'timestamp':'ds', 'priority_fee':'y'}, axis='columns')"
   ],
   "metadata": {
    "collapsed": false,
    "pycharm": {
     "name": "#%%\n"
    }
   }
  },
  {
   "cell_type": "code",
   "execution_count": 79,
   "outputs": [],
   "source": [
    "train = taxi_df\n",
    "# train = taxi_df[(taxi_df['ds'] < '2022-04-10')]"
   ],
   "metadata": {
    "collapsed": false,
    "pycharm": {
     "name": "#%%\n"
    }
   }
  },
  {
   "cell_type": "code",
   "execution_count": 80,
   "outputs": [
    {
     "name": "stderr",
     "output_type": "stream",
     "text": [
      "INFO:prophet:Disabling yearly seasonality. Run prophet with yearly_seasonality=True to override this.\n",
      "INFO:prophet:Disabling weekly seasonality. Run prophet with weekly_seasonality=True to override this.\n",
      "/home/vvlovsky/.local/lib/python3.8/site-packages/prophet/forecaster.py:896: FutureWarning:\n",
      "\n",
      "The frame.append method is deprecated and will be removed from pandas in a future version. Use pandas.concat instead.\n",
      "\n",
      "INFO:cmdstanpy:start chain 1\n",
      "INFO:cmdstanpy:finish chain 1\n"
     ]
    },
    {
     "data": {
      "text/plain": "<prophet.forecaster.Prophet at 0x7fe3c1798490>"
     },
     "execution_count": 80,
     "metadata": {},
     "output_type": "execute_result"
    }
   ],
   "source": [
    "# train['cap'] = 9 * 10**13\n",
    "# train['floor'] = 0\n",
    "\n",
    "m = Prophet()#growth='logistic')\n",
    "m.fit(train)"
   ],
   "metadata": {
    "collapsed": false,
    "pycharm": {
     "name": "#%%\n"
    }
   }
  },
  {
   "cell_type": "code",
   "execution_count": 81,
   "outputs": [],
   "source": [
    "future = m.make_future_dataframe(periods=24*2, freq='30Min')\n",
    "# future['cap'] = 10**13\n",
    "# future['floor'] = 0"
   ],
   "metadata": {
    "collapsed": false,
    "pycharm": {
     "name": "#%%\n"
    }
   }
  },
  {
   "cell_type": "code",
   "execution_count": 82,
   "outputs": [
    {
     "name": "stderr",
     "output_type": "stream",
     "text": [
      "/home/vvlovsky/.local/lib/python3.8/site-packages/prophet/forecaster.py:896: FutureWarning:\n",
      "\n",
      "The frame.append method is deprecated and will be removed from pandas in a future version. Use pandas.concat instead.\n",
      "\n",
      "/home/vvlovsky/.local/lib/python3.8/site-packages/prophet/forecaster.py:896: FutureWarning:\n",
      "\n",
      "The frame.append method is deprecated and will be removed from pandas in a future version. Use pandas.concat instead.\n",
      "\n"
     ]
    },
    {
     "data": {
      "text/plain": "                     ds          yhat    yhat_lower    yhat_upper\n216 2022-03-27 18:00:00 -8.240956e+08 -1.049030e+10  8.514890e+09\n217 2022-03-27 18:30:00 -2.724043e+08 -9.880325e+09  8.296323e+09\n218 2022-03-27 19:00:00  2.268032e+08 -9.170193e+09  9.645503e+09\n219 2022-03-27 19:30:00  5.137886e+08 -8.825875e+09  9.153067e+09\n220 2022-03-27 20:00:00  4.967230e+08 -8.036083e+09  9.586538e+09",
      "text/html": "<div>\n<style scoped>\n    .dataframe tbody tr th:only-of-type {\n        vertical-align: middle;\n    }\n\n    .dataframe tbody tr th {\n        vertical-align: top;\n    }\n\n    .dataframe thead th {\n        text-align: right;\n    }\n</style>\n<table border=\"1\" class=\"dataframe\">\n  <thead>\n    <tr style=\"text-align: right;\">\n      <th></th>\n      <th>ds</th>\n      <th>yhat</th>\n      <th>yhat_lower</th>\n      <th>yhat_upper</th>\n    </tr>\n  </thead>\n  <tbody>\n    <tr>\n      <th>216</th>\n      <td>2022-03-27 18:00:00</td>\n      <td>-8.240956e+08</td>\n      <td>-1.049030e+10</td>\n      <td>8.514890e+09</td>\n    </tr>\n    <tr>\n      <th>217</th>\n      <td>2022-03-27 18:30:00</td>\n      <td>-2.724043e+08</td>\n      <td>-9.880325e+09</td>\n      <td>8.296323e+09</td>\n    </tr>\n    <tr>\n      <th>218</th>\n      <td>2022-03-27 19:00:00</td>\n      <td>2.268032e+08</td>\n      <td>-9.170193e+09</td>\n      <td>9.645503e+09</td>\n    </tr>\n    <tr>\n      <th>219</th>\n      <td>2022-03-27 19:30:00</td>\n      <td>5.137886e+08</td>\n      <td>-8.825875e+09</td>\n      <td>9.153067e+09</td>\n    </tr>\n    <tr>\n      <th>220</th>\n      <td>2022-03-27 20:00:00</td>\n      <td>4.967230e+08</td>\n      <td>-8.036083e+09</td>\n      <td>9.586538e+09</td>\n    </tr>\n  </tbody>\n</table>\n</div>"
     },
     "execution_count": 82,
     "metadata": {},
     "output_type": "execute_result"
    }
   ],
   "source": [
    "forecast = m.predict(future)\n",
    "forecast[['ds','yhat','yhat_lower','yhat_upper']].tail()"
   ],
   "metadata": {
    "collapsed": false,
    "pycharm": {
     "name": "#%%\n"
    }
   }
  },
  {
   "cell_type": "code",
   "execution_count": 83,
   "outputs": [
    {
     "data": {
      "text/plain": "(221, 16)"
     },
     "execution_count": 83,
     "metadata": {},
     "output_type": "execute_result"
    }
   ],
   "source": [
    "forecast.shape"
   ],
   "metadata": {
    "collapsed": false,
    "pycharm": {
     "name": "#%%\n"
    }
   }
  },
  {
   "cell_type": "code",
   "execution_count": 84,
   "outputs": [
    {
     "data": {
      "text/plain": "<Figure size 720x432 with 1 Axes>",
      "image/png": "[encoded data removed]"
     },
     "metadata": {},
     "output_type": "display_data"
    }
   ],
   "source": [
    "result = pd.concat([taxi_df.set_index('ds')['y'], forecast.set_index('ds')[['yhat','yhat_lower','yhat_upper']]], axis=1)\n",
    "fig1 = m.plot(forecast)"
   ],
   "metadata": {
    "collapsed": false,
    "pycharm": {
     "name": "#%%\n"
    }
   }
  },
  {
   "cell_type": "code",
   "execution_count": 85,
   "outputs": [],
   "source": [
    "result['error'] = result['y'] - result['yhat']\n",
    "result['uncertainty'] = result['yhat_upper'] - result['yhat_lower']"
   ],
   "metadata": {
    "collapsed": false,
    "pycharm": {
     "name": "#%%\n"
    }
   }
  },
  {
   "cell_type": "code",
   "execution_count": 86,
   "outputs": [],
   "source": [
    "result['anomaly'] = result.apply(lambda x: 'Yes' if(np.abs(x['error']) > 1.5*x['uncertainty']) else 'No', axis = 1)"
   ],
   "metadata": {
    "collapsed": false,
    "pycharm": {
     "name": "#%%\n"
    }
   }
  },
  {
   "cell_type": "code",
   "execution_count": 90,
   "outputs": [
    {
     "data": {
      "application/vnd.plotly.v1+json": {
       "data": [
        {
         "hovertemplate": "anomaly=No<br>ds=%{x}<br>y=%{y}<extra></extra>",
         "legendgroup": "No",
         "marker": {
          "color": "#636efa",
          "symbol": "circle"
         },
         "mode": "markers",
         "name": "No",
         "orientation": "v",
         "showlegend": true,
         "x": [
          "2022-03-23T06:00:00",
          "2022-03-23T06:30:00",
          "2022-03-23T07:00:00",
          "2022-03-23T07:30:00",
          "2022-03-23T08:00:00",
          "2022-03-23T08:30:00",
          "2022-03-23T09:00:00",
          "2022-03-23T09:30:00",
          "2022-03-23T10:00:00",
          "2022-03-23T10:30:00",
          "2022-03-23T11:00:00",
          "2022-03-23T11:30:00",
          "2022-03-23T12:00:00",
          "2022-03-23T12:30:00",
          "2022-03-23T14:00:00",
          "2022-03-23T14:30:00",
          "2022-03-23T15:00:00",
          "2022-03-23T15:30:00",
          "2022-03-23T16:00:00",
          "2022-03-23T16:30:00",
          "2022-03-23T17:00:00",
          "2022-03-23T17:30:00",
          "2022-03-23T18:00:00",
          "2022-03-23T18:30:00",
          "2022-03-23T19:00:00",
          "2022-03-23T19:30:00",
          "2022-03-23T20:00:00",
          "2022-03-23T20:30:00",
          "2022-03-23T21:00:00",
          "2022-03-23T21:30:00",
          "2022-03-23T22:00:00",
          "2022-03-23T22:30:00",
          "2022-03-23T23:00:00",
          "2022-03-23T23:30:00",
          "2022-03-24T00:00:00",
          "2022-03-24T00:30:00",
          "2022-03-24T01:00:00",
          "2022-03-24T01:30:00",
          "2022-03-24T02:00:00",
          "2022-03-24T02:30:00",
          "2022-03-24T03:00:00",
          "2022-03-24T03:30:00",
          "2022-03-24T04:00:00",
          "2022-03-24T04:30:00",
          "2022-03-24T05:00:00",
          "2022-03-24T05:30:00",
          "2022-03-24T06:00:00",
          "2022-03-24T06:30:00",
          "2022-03-24T07:00:00",
          "2022-03-24T07:30:00",
          "2022-03-24T08:00:00",
          "2022-03-24T08:30:00",
          "2022-03-24T09:00:00",
          "2022-03-24T09:30:00",
          "2022-03-24T10:00:00",
          "2022-03-24T10:30:00",
          "2022-03-24T11:00:00",
          "2022-03-24T11:30:00",
          "2022-03-24T12:00:00",
          "2022-03-24T12:30:00",
          "2022-03-24T13:00:00",
          "2022-03-24T13:30:00",
          "2022-03-24T14:00:00",
          "2022-03-24T14:30:00",
          "2022-03-24T15:00:00",
          "2022-03-24T15:30:00",
          "2022-03-24T16:00:00",
          "2022-03-24T16:30:00",
          "2022-03-24T17:00:00",
          "2022-03-24T17:30:00",
          "2022-03-24T18:00:00",
          "2022-03-24T18:30:00",
          "2022-03-24T19:00:00",
          "2022-03-24T19:30:00",
          "2022-03-24T20:00:00",
          "2022-03-24T20:30:00",
          "2022-03-24T21:00:00",
          "2022-03-24T21:30:00",
          "2022-03-24T22:00:00",
          "2022-03-24T22:30:00",
          "2022-03-24T23:00:00",
          "2022-03-24T23:30:00",
          "2022-03-25T00:00:00",
          "2022-03-25T00:30:00",
          "2022-03-25T01:00:00",
          "2022-03-25T01:30:00",
          "2022-03-25T02:00:00",
          "2022-03-25T02:30:00",
          "2022-03-25T03:00:00",
          "2022-03-25T03:30:00",
          "2022-03-25T04:00:00",
          "2022-03-25T04:30:00",
          "2022-03-25T05:00:00",
          "2022-03-25T05:30:00",
          "2022-03-25T06:00:00",
          "2022-03-25T06:30:00",
          "2022-03-25T07:00:00",
          "2022-03-25T07:30:00",
          "2022-03-25T08:00:00",
          "2022-03-25T08:30:00",
          "2022-03-25T09:00:00",
          "2022-03-25T09:30:00",
          "2022-03-25T10:00:00",
          "2022-03-25T10:30:00",
          "2022-03-25T11:00:00",
          "2022-03-25T11:30:00",
          "2022-03-25T12:00:00",
          "2022-03-25T12:30:00",
          "2022-03-25T13:00:00",
          "2022-03-25T13:30:00",
          "2022-03-25T14:00:00",
          "2022-03-25T14:30:00",
          "2022-03-25T15:00:00",
          "2022-03-25T15:30:00",
          "2022-03-25T16:00:00",
          "2022-03-25T16:30:00",
          "2022-03-25T17:00:00",
          "2022-03-25T17:30:00",
          "2022-03-25T18:00:00",
          "2022-03-25T18:30:00",
          "2022-03-25T19:00:00",
          "2022-03-25T19:30:00",
          "2022-03-25T20:00:00",
          "2022-03-25T20:30:00",
          "2022-03-25T21:00:00",
          "2022-03-25T21:30:00",
          "2022-03-25T22:00:00",
          "2022-03-25T22:30:00",
          "2022-03-25T23:00:00",
          "2022-03-25T23:30:00",
          "2022-03-26T00:00:00",
          "2022-03-26T00:30:00",
          "2022-03-26T01:00:00",
          "2022-03-26T01:30:00",
          "2022-03-26T02:00:00",
          "2022-03-26T02:30:00",
          "2022-03-26T03:00:00",
          "2022-03-26T03:30:00",
          "2022-03-26T04:00:00",
          "2022-03-26T04:30:00",
          "2022-03-26T05:00:00",
          "2022-03-26T05:30:00",
          "2022-03-26T06:00:00",
          "2022-03-26T06:30:00",
          "2022-03-26T07:00:00",
          "2022-03-26T07:30:00",
          "2022-03-26T08:00:00",
          "2022-03-26T08:30:00",
          "2022-03-26T09:00:00",
          "2022-03-26T09:30:00",
          "2022-03-26T10:00:00",
          "2022-03-26T10:30:00",
          "2022-03-26T11:00:00",
          "2022-03-26T11:30:00",
          "2022-03-26T12:00:00",
          "2022-03-26T12:30:00",
          "2022-03-26T13:00:00",
          "2022-03-26T13:30:00",
          "2022-03-26T14:00:00",
          "2022-03-26T14:30:00",
          "2022-03-26T15:00:00",
          "2022-03-26T15:30:00",
          "2022-03-26T16:00:00",
          "2022-03-26T16:30:00",
          "2022-03-26T17:00:00",
          "2022-03-26T17:30:00",
          "2022-03-26T18:00:00",
          "2022-03-26T18:30:00",
          "2022-03-26T19:00:00",
          "2022-03-26T19:30:00",
          "2022-03-26T20:00:00",
          "2022-03-26T20:30:00",
          "2022-03-26T21:00:00",
          "2022-03-26T21:30:00",
          "2022-03-26T22:00:00",
          "2022-03-26T22:30:00",
          "2022-03-26T23:00:00",
          "2022-03-26T23:30:00",
          "2022-03-27T00:00:00",
          "2022-03-27T00:30:00",
          "2022-03-27T01:00:00",
          "2022-03-27T01:30:00",
          "2022-03-27T02:00:00",
          "2022-03-27T02:30:00",
          "2022-03-27T03:00:00",
          "2022-03-27T03:30:00",
          "2022-03-27T04:00:00",
          "2022-03-27T04:30:00",
          "2022-03-27T05:00:00",
          "2022-03-27T05:30:00",
          "2022-03-27T06:00:00",
          "2022-03-27T06:30:00",
          "2022-03-27T07:00:00",
          "2022-03-27T07:30:00",
          "2022-03-27T08:00:00",
          "2022-03-27T08:30:00",
          "2022-03-27T09:00:00",
          "2022-03-27T09:30:00",
          "2022-03-27T10:00:00",
          "2022-03-27T10:30:00",
          "2022-03-27T11:00:00",
          "2022-03-27T11:30:00",
          "2022-03-27T12:00:00",
          "2022-03-27T12:30:00",
          "2022-03-27T13:00:00",
          "2022-03-27T13:30:00",
          "2022-03-27T14:00:00",
          "2022-03-27T14:30:00",
          "2022-03-27T15:00:00",
          "2022-03-27T15:30:00",
          "2022-03-27T16:00:00",
          "2022-03-27T16:30:00",
          "2022-03-27T17:00:00",
          "2022-03-27T17:30:00",
          "2022-03-27T18:00:00",
          "2022-03-27T18:30:00",
          "2022-03-27T19:00:00",
          "2022-03-27T19:30:00",
          "2022-03-27T20:00:00"
         ],
         "xaxis": "x",
         "y": [
          1.5E9,
          1.5E9,
          2.064658852E9,
          2.0E9,
          2.0E9,
          4.0E9,
          1.764384637E9,
          2.0E9,
          2.0E9,
          1.5E9,
          1.65E9,
          1.5E9,
          2.0E9,
          2.0E9,
          2.0E9,
          3.038836579E9,
          2.0E9,
          1.5E9,
          1.5E9,
          2.0E9,
          7.0E9,
          1.77058562E9,
          2.0E9,
          1.5E9,
          2.0E9,
          2.0E9,
          1.717468051E9,
          1.5E9,
          1.5E9,
          1.5E9,
          null,
          null,
          null,
          1.5E9,
          null,
          null,
          1.5E9,
          5.491913635E9,
          3.371876842E9,
          2.0E9,
          2.0E10,
          1.0E10,
          1.5E9,
          1.5E9,
          2.059461434E9,
          1.5E9,
          2.0E9,
          1.5E9,
          2.0E9,
          1.5E9,
          8.498443053E9,
          2.0E9,
          2.0E9,
          1.67350129E9,
          1.94E9,
          2.0E9,
          1.791914903E9,
          2.0E9,
          1.5E9,
          1.5E9,
          1.5E9,
          2.0E9,
          2.0E9,
          2.0E9,
          2.0E9,
          1.5E9,
          2.0E9,
          3.701525736E9,
          1.5E9,
          2.0E9,
          1.5E9,
          1.5E9,
          1.5E9,
          2.0E9,
          1.8818E9,
          1.94E9,
          1.791757697E9,
          1.51E9,
          1.5E9,
          1.5E9,
          2.0E9,
          1.5E9,
          2.0E9,
          1.5E9,
          1.5E9,
          2.0E9,
          1.5E9,
          2.0E9,
          1.65E9,
          1.5E9,
          1.5E9,
          2.2815979171E10,
          1.5E9,
          2.0E9,
          1.5E9,
          1.551E9,
          1.65E9,
          1.5E9,
          1.5E9,
          1.5E9,
          1.5E9,
          1.5E9,
          1.5E9,
          1.5E9,
          1.5E9,
          2.0E9,
          1.5E9,
          1.5E9,
          1.57855694E9,
          1.5E9,
          2.778778876E9,
          1.5E9,
          1.94E9,
          1.5E9,
          1.5E9,
          1.94E9,
          2.0E9,
          2.0E9,
          2.0E9,
          1.5E9,
          4.0E9,
          2.0E9,
          1.5E9,
          1.5E9,
          1.5E9,
          2.0E9,
          1.5E9,
          2.0E9,
          1.94E9,
          2.0E9,
          1.5E9,
          2.0E9,
          1.5E9,
          1.5E9,
          2.0E9,
          3.0E9,
          1.8758804927E10,
          2.0E9,
          2.0E9,
          1.5E9,
          1.5E9,
          1.547887612E9,
          1.5E9,
          1.5E9,
          2.45E9,
          1.94E9,
          1.5E9,
          1.5E9,
          1.5E9,
          1.5E9,
          1.5E9,
          2.312948904E10,
          1.5E9,
          1.712665081E9,
          2.191337741E10,
          1.5E9,
          2.0E9,
          1.5E9,
          1.5E9,
          1.5E9,
          1.5E9,
          2.0E9,
          2.0E9,
          1.5E9,
          2.0E9,
          1.5E9,
          2.0E9,
          1.5E9,
          1.5E9,
          2.0E9,
          2.0E9,
          null,
          null,
          null,
          null,
          null,
          null,
          null,
          null,
          null,
          null,
          null,
          null,
          null,
          null,
          null,
          null,
          null,
          null,
          null,
          null,
          null,
          null,
          null,
          null,
          null,
          null,
          null,
          null,
          null,
          null,
          null,
          null,
          null,
          null,
          null,
          null,
          null,
          null,
          null,
          null,
          null,
          null,
          null,
          null,
          null,
          null,
          null,
          null
         ],
         "yaxis": "y",
         "type": "scatter"
        },
        {
         "hovertemplate": "anomaly=Yes<br>ds=%{x}<br>y=%{y}<extra></extra>",
         "legendgroup": "Yes",
         "marker": {
          "color": "#EF553B",
          "symbol": "circle"
         },
         "mode": "markers",
         "name": "Yes",
         "orientation": "v",
         "showlegend": true,
         "x": [
          "2022-03-23T13:00:00",
          "2022-03-23T13:30:00"
         ],
         "xaxis": "x",
         "y": [
          6.6848563939E10,
          6.4866976836E10
         ],
         "yaxis": "y",
         "type": "scatter"
        }
       ],
       "layout": {
        "template": {
         "data": {
          "histogram2dcontour": [
           {
            "type": "histogram2dcontour",
            "colorbar": {
             "outlinewidth": 0,
             "ticks": ""
            },
            "colorscale": [
             [
              0.0,
              "#0d0887"
             ],
             [
              0.1111111111111111,
              "#46039f"
             ],
             [
              0.2222222222222222,
              "#7201a8"
             ],
             [
              0.3333333333333333,
              "#9c179e"
             ],
             [
              0.4444444444444444,
              "#bd3786"
             ],
             [
              0.5555555555555556,
              "#d8576b"
             ],
             [
              0.6666666666666666,
              "#ed7953"
             ],
             [
              0.7777777777777778,
              "#fb9f3a"
             ],
             [
              0.8888888888888888,
              "#fdca26"
             ],
             [
              1.0,
              "#f0f921"
             ]
            ]
           }
          ],
          "choropleth": [
           {
            "type": "choropleth",
            "colorbar": {
             "outlinewidth": 0,
             "ticks": ""
            }
           }
          ],
          "histogram2d": [
           {
            "type": "histogram2d",
            "colorbar": {
             "outlinewidth": 0,
             "ticks": ""
            },
            "colorscale": [
             [
              0.0,
              "#0d0887"
             ],
             [
              0.1111111111111111,
              "#46039f"
             ],
             [
              0.2222222222222222,
              "#7201a8"
             ],
             [
              0.3333333333333333,
              "#9c179e"
             ],
             [
              0.4444444444444444,
              "#bd3786"
             ],
             [
              0.5555555555555556,
              "#d8576b"
             ],
             [
              0.6666666666666666,
              "#ed7953"
             ],
             [
              0.7777777777777778,
              "#fb9f3a"
             ],
             [
              0.8888888888888888,
              "#fdca26"
             ],
             [
              1.0,
              "#f0f921"
             ]
            ]
           }
          ],
          "heatmap": [
           {
            "type": "heatmap",
            "colorbar": {
             "outlinewidth": 0,
             "ticks": ""
            },
            "colorscale": [
             [
              0.0,
              "#0d0887"
             ],
             [
              0.1111111111111111,
              "#46039f"
             ],
             [
              0.2222222222222222,
              "#7201a8"
             ],
             [
              0.3333333333333333,
              "#9c179e"
             ],
             [
              0.4444444444444444,
              "#bd3786"
             ],
             [
              0.5555555555555556,
              "#d8576b"
             ],
             [
              0.6666666666666666,
              "#ed7953"
             ],
             [
              0.7777777777777778,
              "#fb9f3a"
             ],
             [
              0.8888888888888888,
              "#fdca26"
             ],
             [
              1.0,
              "#f0f921"
             ]
            ]
           }
          ],
          "heatmapgl": [
           {
            "type": "heatmapgl",
            "colorbar": {
             "outlinewidth": 0,
             "ticks": ""
            },
            "colorscale": [
             [
              0.0,
              "#0d0887"
             ],
             [
              0.1111111111111111,
              "#46039f"
             ],
             [
              0.2222222222222222,
              "#7201a8"
             ],
             [
              0.3333333333333333,
              "#9c179e"
             ],
             [
              0.4444444444444444,
              "#bd3786"
             ],
             [
              0.5555555555555556,
              "#d8576b"
             ],
             [
              0.6666666666666666,
              "#ed7953"
             ],
             [
              0.7777777777777778,
              "#fb9f3a"
             ],
             [
              0.8888888888888888,
              "#fdca26"
             ],
             [
              1.0,
              "#f0f921"
             ]
            ]
           }
          ],
          "contourcarpet": [
           {
            "type": "contourcarpet",
            "colorbar": {
             "outlinewidth": 0,
             "ticks": ""
            }
           }
          ],
          "contour": [
           {
            "type": "contour",
            "colorbar": {
             "outlinewidth": 0,
             "ticks": ""
            },
            "colorscale": [
             [
              0.0,
              "#0d0887"
             ],
             [
              0.1111111111111111,
              "#46039f"
             ],
             [
              0.2222222222222222,
              "#7201a8"
             ],
             [
              0.3333333333333333,
              "#9c179e"
             ],
             [
              0.4444444444444444,
              "#bd3786"
             ],
             [
              0.5555555555555556,
              "#d8576b"
             ],
             [
              0.6666666666666666,
              "#ed7953"
             ],
             [
              0.7777777777777778,
              "#fb9f3a"
             ],
             [
              0.8888888888888888,
              "#fdca26"
             ],
             [
              1.0,
              "#f0f921"
             ]
            ]
           }
          ],
          "surface": [
           {
            "type": "surface",
            "colorbar": {
             "outlinewidth": 0,
             "ticks": ""
            },
            "colorscale": [
             [
              0.0,
              "#0d0887"
             ],
             [
              0.1111111111111111,
              "#46039f"
             ],
             [
              0.2222222222222222,
              "#7201a8"
             ],
             [
              0.3333333333333333,
              "#9c179e"
             ],
             [
              0.4444444444444444,
              "#bd3786"
             ],
             [
              0.5555555555555556,
              "#d8576b"
             ],
             [
              0.6666666666666666,
              "#ed7953"
             ],
             [
              0.7777777777777778,
              "#fb9f3a"
             ],
             [
              0.8888888888888888,
              "#fdca26"
             ],
             [
              1.0,
              "#f0f921"
             ]
            ]
           }
          ],
          "mesh3d": [
           {
            "type": "mesh3d",
            "colorbar": {
             "outlinewidth": 0,
             "ticks": ""
            }
           }
          ],
          "scatter": [
           {
            "marker": {
             "line": {
              "color": "#283442"
             }
            },
            "type": "scatter"
           }
          ],
          "parcoords": [
           {
            "type": "parcoords",
            "line": {
             "colorbar": {
              "outlinewidth": 0,
              "ticks": ""
             }
            }
           }
          ],
          "scatterpolargl": [
           {
            "type": "scatterpolargl",
            "marker": {
             "colorbar": {
              "outlinewidth": 0,
              "ticks": ""
             }
            }
           }
          ],
          "bar": [
           {
            "error_x": {
             "color": "#f2f5fa"
            },
            "error_y": {
             "color": "#f2f5fa"
            },
            "marker": {
             "line": {
              "color": "rgb(17,17,17)",
              "width": 0.5
             },
             "pattern": {
              "fillmode": "overlay",
              "size": 10,
              "solidity": 0.2
             }
            },
            "type": "bar"
           }
          ],
          "scattergeo": [
           {
            "type": "scattergeo",
            "marker": {
             "colorbar": {
              "outlinewidth": 0,
              "ticks": ""
             }
            }
           }
          ],
          "scatterpolar": [
           {
            "type": "scatterpolar",
            "marker": {
             "colorbar": {
              "outlinewidth": 0,
              "ticks": ""
             }
            }
           }
          ],
          "histogram": [
           {
            "marker": {
             "pattern": {
              "fillmode": "overlay",
              "size": 10,
              "solidity": 0.2
             }
            },
            "type": "histogram"
           }
          ],
          "scattergl": [
           {
            "marker": {
             "line": {
              "color": "#283442"
             }
            },
            "type": "scattergl"
           }
          ],
          "scatter3d": [
           {
            "type": "scatter3d",
            "line": {
             "colorbar": {
              "outlinewidth": 0,
              "ticks": ""
             }
            },
            "marker": {
             "colorbar": {
              "outlinewidth": 0,
              "ticks": ""
             }
            }
           }
          ],
          "scattermapbox": [
           {
            "type": "scattermapbox",
            "marker": {
             "colorbar": {
              "outlinewidth": 0,
              "ticks": ""
             }
            }
           }
          ],
          "scatterternary": [
           {
            "type": "scatterternary",
            "marker": {
             "colorbar": {
              "outlinewidth": 0,
              "ticks": ""
             }
            }
           }
          ],
          "scattercarpet": [
           {
            "type": "scattercarpet",
            "marker": {
             "colorbar": {
              "outlinewidth": 0,
              "ticks": ""
             }
            }
           }
          ],
          "carpet": [
           {
            "aaxis": {
             "endlinecolor": "#A2B1C6",
             "gridcolor": "#506784",
             "linecolor": "#506784",
             "minorgridcolor": "#506784",
             "startlinecolor": "#A2B1C6"
            },
            "baxis": {
             "endlinecolor": "#A2B1C6",
             "gridcolor": "#506784",
             "linecolor": "#506784",
             "minorgridcolor": "#506784",
             "startlinecolor": "#A2B1C6"
            },
            "type": "carpet"
           }
          ],
          "table": [
           {
            "cells": {
             "fill": {
              "color": "#506784"
             },
             "line": {
              "color": "rgb(17,17,17)"
             }
            },
            "header": {
             "fill": {
              "color": "#2a3f5f"
             },
             "line": {
              "color": "rgb(17,17,17)"
             }
            },
            "type": "table"
           }
          ],
          "barpolar": [
           {
            "marker": {
             "line": {
              "color": "rgb(17,17,17)",
              "width": 0.5
             },
             "pattern": {
              "fillmode": "overlay",
              "size": 10,
              "solidity": 0.2
             }
            },
            "type": "barpolar"
           }
          ],
          "pie": [
           {
            "automargin": true,
            "type": "pie"
           }
          ]
         },
         "layout": {
          "autotypenumbers": "strict",
          "colorway": [
           "#636efa",
           "#EF553B",
           "#00cc96",
           "#ab63fa",
           "#FFA15A",
           "#19d3f3",
           "#FF6692",
           "#B6E880",
           "#FF97FF",
           "#FECB52"
          ],
          "font": {
           "color": "#f2f5fa"
          },
          "hovermode": "closest",
          "hoverlabel": {
           "align": "left"
          },
          "paper_bgcolor": "rgb(17,17,17)",
          "plot_bgcolor": "rgb(17,17,17)",
          "polar": {
           "bgcolor": "rgb(17,17,17)",
           "angularaxis": {
            "gridcolor": "#506784",
            "linecolor": "#506784",
            "ticks": ""
           },
           "radialaxis": {
            "gridcolor": "#506784",
            "linecolor": "#506784",
            "ticks": ""
           }
          },
          "ternary": {
           "bgcolor": "rgb(17,17,17)",
           "aaxis": {
            "gridcolor": "#506784",
            "linecolor": "#506784",
            "ticks": ""
           },
           "baxis": {
            "gridcolor": "#506784",
            "linecolor": "#506784",
            "ticks": ""
           },
           "caxis": {
            "gridcolor": "#506784",
            "linecolor": "#506784",
            "ticks": ""
           }
          },
          "coloraxis": {
           "colorbar": {
            "outlinewidth": 0,
            "ticks": ""
           }
          },
          "colorscale": {
           "sequential": [
            [
             0.0,
             "#0d0887"
            ],
            [
             0.1111111111111111,
             "#46039f"
            ],
            [
             0.2222222222222222,
             "#7201a8"
            ],
            [
             0.3333333333333333,
             "#9c179e"
            ],
            [
             0.4444444444444444,
             "#bd3786"
            ],
            [
             0.5555555555555556,
             "#d8576b"
            ],
            [
             0.6666666666666666,
             "#ed7953"
            ],
            [
             0.7777777777777778,
             "#fb9f3a"
            ],
            [
             0.8888888888888888,
             "#fdca26"
            ],
            [
             1.0,
             "#f0f921"
            ]
           ],
           "sequentialminus": [
            [
             0.0,
             "#0d0887"
            ],
            [
             0.1111111111111111,
             "#46039f"
            ],
            [
             0.2222222222222222,
             "#7201a8"
            ],
            [
             0.3333333333333333,
             "#9c179e"
            ],
            [
             0.4444444444444444,
             "#bd3786"
            ],
            [
             0.5555555555555556,
             "#d8576b"
            ],
            [
             0.6666666666666666,
             "#ed7953"
            ],
            [
             0.7777777777777778,
             "#fb9f3a"
            ],
            [
             0.8888888888888888,
             "#fdca26"
            ],
            [
             1.0,
             "#f0f921"
            ]
           ],
           "diverging": [
            [
             0,
             "#8e0152"
            ],
            [
             0.1,
             "#c51b7d"
            ],
            [
             0.2,
             "#de77ae"
            ],
            [
             0.3,
             "#f1b6da"
            ],
            [
             0.4,
             "#fde0ef"
            ],
            [
             0.5,
             "#f7f7f7"
            ],
            [
             0.6,
             "#e6f5d0"
            ],
            [
             0.7,
             "#b8e186"
            ],
            [
             0.8,
             "#7fbc41"
            ],
            [
             0.9,
             "#4d9221"
            ],
            [
             1,
             "#276419"
            ]
           ]
          },
          "xaxis": {
           "gridcolor": "#283442",
           "linecolor": "#506784",
           "ticks": "",
           "title": {
            "standoff": 15
           },
           "zerolinecolor": "#283442",
           "automargin": true,
           "zerolinewidth": 2
          },
          "yaxis": {
           "gridcolor": "#283442",
           "linecolor": "#506784",
           "ticks": "",
           "title": {
            "standoff": 15
           },
           "zerolinecolor": "#283442",
           "automargin": true,
           "zerolinewidth": 2
          },
          "scene": {
           "xaxis": {
            "backgroundcolor": "rgb(17,17,17)",
            "gridcolor": "#506784",
            "linecolor": "#506784",
            "showbackground": true,
            "ticks": "",
            "zerolinecolor": "#C8D4E3",
            "gridwidth": 2
           },
           "yaxis": {
            "backgroundcolor": "rgb(17,17,17)",
            "gridcolor": "#506784",
            "linecolor": "#506784",
            "showbackground": true,
            "ticks": "",
            "zerolinecolor": "#C8D4E3",
            "gridwidth": 2
           },
           "zaxis": {
            "backgroundcolor": "rgb(17,17,17)",
            "gridcolor": "#506784",
            "linecolor": "#506784",
            "showbackground": true,
            "ticks": "",
            "zerolinecolor": "#C8D4E3",
            "gridwidth": 2
           }
          },
          "shapedefaults": {
           "line": {
            "color": "#f2f5fa"
           }
          },
          "annotationdefaults": {
           "arrowcolor": "#f2f5fa",
           "arrowhead": 0,
           "arrowwidth": 1
          },
          "geo": {
           "bgcolor": "rgb(17,17,17)",
           "landcolor": "rgb(17,17,17)",
           "subunitcolor": "#506784",
           "showland": true,
           "showlakes": true,
           "lakecolor": "rgb(17,17,17)"
          },
          "title": {
           "x": 0.05
          },
          "updatemenudefaults": {
           "bgcolor": "#506784",
           "borderwidth": 0
          },
          "sliderdefaults": {
           "bgcolor": "#C8D4E3",
           "borderwidth": 1,
           "bordercolor": "rgb(17,17,17)",
           "tickwidth": 0
          },
          "mapbox": {
           "style": "dark"
          }
         }
        },
        "xaxis": {
         "anchor": "y",
         "domain": [
          0.0,
          1.0
         ],
         "title": {
          "text": "ds"
         }
        },
        "yaxis": {
         "anchor": "x",
         "domain": [
          0.0,
          1.0
         ],
         "title": {
          "text": "y"
         }
        },
        "legend": {
         "title": {
          "text": "anomaly"
         },
         "tracegroupgap": 0
        },
        "title": {
         "text": "NYC Taxi Demand"
        }
       },
       "config": {
        "plotlyServerURL": "https://plot.ly"
       }
      },
      "text/html": "<div>                            <div id=\"3ae7025e-7636-472e-9712-3faf79446858\" class=\"plotly-graph-div\" style=\"height:525px; width:100%;\"></div>            <script type=\"text/javascript\">                require([\"plotly\"], function(Plotly) {                    window.PLOTLYENV=window.PLOTLYENV || {};                                    if (document.getElementById(\"3ae7025e-7636-472e-9712-3faf79446858\")) {                    Plotly.newPlot(                        \"3ae7025e-7636-472e-9712-3faf79446858\",                        [{\"hovertemplate\":\"anomaly=No<br>ds=%{x}<br>y=%{y}<extra></extra>\",\"legendgroup\":\"No\",\"marker\":{\"color\":\"#636efa\",\"symbol\":\"circle\"},\"mode\":\"markers\",\"name\":\"No\",\"orientation\":\"v\",\"showlegend\":true,\"x\":[\"2022-03-23T06:00:00\",\"2022-03-23T06:30:00\",\"2022-03-23T07:00:00\",\"2022-03-23T07:30:00\",\"2022-03-23T08:00:00\",\"2022-03-23T08:30:00\",\"2022-03-23T09:00:00\",\"2022-03-23T09:30:00\",\"2022-03-23T10:00:00\",\"2022-03-23T10:30:00\",\"2022-03-23T11:00:00\",\"2022-03-23T11:30:00\",\"2022-03-23T12:00:00\",\"2022-03-23T12:30:00\",\"2022-03-23T14:00:00\",\"2022-03-23T14:30:00\",\"2022-03-23T15:00:00\",\"2022-03-23T15:30:00\",\"2022-03-23T16:00:00\",\"2022-03-23T16:30:00\",\"2022-03-23T17:00:00\",\"2022-03-23T17:30:00\",\"2022-03-23T18:00:00\",\"2022-03-23T18:30:00\",\"2022-03-23T19:00:00\",\"2022-03-23T19:30:00\",\"2022-03-23T20:00:00\",\"2022-03-23T20:30:00\",\"2022-03-23T21:00:00\",\"2022-03-23T21:30:00\",\"2022-03-23T22:00:00\",\"2022-03-23T22:30:00\",\"2022-03-23T23:00:00\",\"2022-03-23T23:30:00\",\"2022-03-24T00:00:00\",\"2022-03-24T00:30:00\",\"2022-03-24T01:00:00\",\"2022-03-24T01:30:00\",\"2022-03-24T02:00:00\",\"2022-03-24T02:30:00\",\"2022-03-24T03:00:00\",\"2022-03-24T03:30:00\",\"2022-03-24T04:00:00\",\"2022-03-24T04:30:00\",\"2022-03-24T05:00:00\",\"2022-03-24T05:30:00\",\"2022-03-24T06:00:00\",\"2022-03-24T06:30:00\",\"2022-03-24T07:00:00\",\"2022-03-24T07:30:00\",\"2022-03-24T08:00:00\",\"2022-03-24T08:30:00\",\"2022-03-24T09:00:00\",\"2022-03-24T09:30:00\",\"2022-03-24T10:00:00\",\"2022-03-24T10:30:00\",\"2022-03-24T11:00:00\",\"2022-03-24T11:30:00\",\"2022-03-24T12:00:00\",\"2022-03-24T12:30:00\",\"2022-03-24T13:00:00\",\"2022-03-24T13:30:00\",\"2022-03-24T14:00:00\",\"2022-03-24T14:30:00\",\"2022-03-24T15:00:00\",\"2022-03-24T15:30:00\",\"2022-03-24T16:00:00\",\"2022-03-24T16:30:00\",\"2022-03-24T17:00:00\",\"2022-03-24T17:30:00\",\"2022-03-24T18:00:00\",\"2022-03-24T18:30:00\",\"2022-03-24T19:00:00\",\"2022-03-24T19:30:00\",\"2022-03-24T20:00:00\",\"2022-03-24T20:30:00\",\"2022-03-24T21:00:00\",\"2022-03-24T21:30:00\",\"2022-03-24T22:00:00\",\"2022-03-24T22:30:00\",\"2022-03-24T23:00:00\",\"2022-03-24T23:30:00\",\"2022-03-25T00:00:00\",\"2022-03-25T00:30:00\",\"2022-03-25T01:00:00\",\"2022-03-25T01:30:00\",\"2022-03-25T02:00:00\",\"2022-03-25T02:30:00\",\"2022-03-25T03:00:00\",\"2022-03-25T03:30:00\",\"2022-03-25T04:00:00\",\"2022-03-25T04:30:00\",\"2022-03-25T05:00:00\",\"2022-03-25T05:30:00\",\"2022-03-25T06:00:00\",\"2022-03-25T06:30:00\",\"2022-03-25T07:00:00\",\"2022-03-25T07:30:00\",\"2022-03-25T08:00:00\",\"2022-03-25T08:30:00\",\"2022-03-25T09:00:00\",\"2022-03-25T09:30:00\",\"2022-03-25T10:00:00\",\"2022-03-25T10:30:00\",\"2022-03-25T11:00:00\",\"2022-03-25T11:30:00\",\"2022-03-25T12:00:00\",\"2022-03-25T12:30:00\",\"2022-03-25T13:00:00\",\"2022-03-25T13:30:00\",\"2022-03-25T14:00:00\",\"2022-03-25T14:30:00\",\"2022-03-25T15:00:00\",\"2022-03-25T15:30:00\",\"2022-03-25T16:00:00\",\"2022-03-25T16:30:00\",\"2022-03-25T17:00:00\",\"2022-03-25T17:30:00\",\"2022-03-25T18:00:00\",\"2022-03-25T18:30:00\",\"2022-03-25T19:00:00\",\"2022-03-25T19:30:00\",\"2022-03-25T20:00:00\",\"2022-03-25T20:30:00\",\"2022-03-25T21:00:00\",\"2022-03-25T21:30:00\",\"2022-03-25T22:00:00\",\"2022-03-25T22:30:00\",\"2022-03-25T23:00:00\",\"2022-03-25T23:30:00\",\"2022-03-26T00:00:00\",\"2022-03-26T00:30:00\",\"2022-03-26T01:00:00\",\"2022-03-26T01:30:00\",\"2022-03-26T02:00:00\",\"2022-03-26T02:30:00\",\"2022-03-26T03:00:00\",\"2022-03-26T03:30:00\",\"2022-03-26T04:00:00\",\"2022-03-26T04:30:00\",\"2022-03-26T05:00:00\",\"2022-03-26T05:30:00\",\"2022-03-26T06:00:00\",\"2022-03-26T06:30:00\",\"2022-03-26T07:00:00\",\"2022-03-26T07:30:00\",\"2022-03-26T08:00:00\",\"2022-03-26T08:30:00\",\"2022-03-26T09:00:00\",\"2022-03-26T09:30:00\",\"2022-03-26T10:00:00\",\"2022-03-26T10:30:00\",\"2022-03-26T11:00:00\",\"2022-03-26T11:30:00\",\"2022-03-26T12:00:00\",\"2022-03-26T12:30:00\",\"2022-03-26T13:00:00\",\"2022-03-26T13:30:00\",\"2022-03-26T14:00:00\",\"2022-03-26T14:30:00\",\"2022-03-26T15:00:00\",\"2022-03-26T15:30:00\",\"2022-03-26T16:00:00\",\"2022-03-26T16:30:00\",\"2022-03-26T17:00:00\",\"2022-03-26T17:30:00\",\"2022-03-26T18:00:00\",\"2022-03-26T18:30:00\",\"2022-03-26T19:00:00\",\"2022-03-26T19:30:00\",\"2022-03-26T20:00:00\",\"2022-03-26T20:30:00\",\"2022-03-26T21:00:00\",\"2022-03-26T21:30:00\",\"2022-03-26T22:00:00\",\"2022-03-26T22:30:00\",\"2022-03-26T23:00:00\",\"2022-03-26T23:30:00\",\"2022-03-27T00:00:00\",\"2022-03-27T00:30:00\",\"2022-03-27T01:00:00\",\"2022-03-27T01:30:00\",\"2022-03-27T02:00:00\",\"2022-03-27T02:30:00\",\"2022-03-27T03:00:00\",\"2022-03-27T03:30:00\",\"2022-03-27T04:00:00\",\"2022-03-27T04:30:00\",\"2022-03-27T05:00:00\",\"2022-03-27T05:30:00\",\"2022-03-27T06:00:00\",\"2022-03-27T06:30:00\",\"2022-03-27T07:00:00\",\"2022-03-27T07:30:00\",\"2022-03-27T08:00:00\",\"2022-03-27T08:30:00\",\"2022-03-27T09:00:00\",\"2022-03-27T09:30:00\",\"2022-03-27T10:00:00\",\"2022-03-27T10:30:00\",\"2022-03-27T11:00:00\",\"2022-03-27T11:30:00\",\"2022-03-27T12:00:00\",\"2022-03-27T12:30:00\",\"2022-03-27T13:00:00\",\"2022-03-27T13:30:00\",\"2022-03-27T14:00:00\",\"2022-03-27T14:30:00\",\"2022-03-27T15:00:00\",\"2022-03-27T15:30:00\",\"2022-03-27T16:00:00\",\"2022-03-27T16:30:00\",\"2022-03-27T17:00:00\",\"2022-03-27T17:30:00\",\"2022-03-27T18:00:00\",\"2022-03-27T18:30:00\",\"2022-03-27T19:00:00\",\"2022-03-27T19:30:00\",\"2022-03-27T20:00:00\"],\"xaxis\":\"x\",\"y\":[1500000000.0,1500000000.0,2064658852.0,2000000000.0,2000000000.0,4000000000.0,1764384637.0,2000000000.0,2000000000.0,1500000000.0,1650000000.0,1500000000.0,2000000000.0,2000000000.0,2000000000.0,3038836579.0,2000000000.0,1500000000.0,1500000000.0,2000000000.0,7000000000.0,1770585620.0,2000000000.0,1500000000.0,2000000000.0,2000000000.0,1717468051.0,1500000000.0,1500000000.0,1500000000.0,null,null,null,1500000000.0,null,null,1500000000.0,5491913635.0,3371876842.0,2000000000.0,20000000000.0,10000000000.0,1500000000.0,1500000000.0,2059461434.0,1500000000.0,2000000000.0,1500000000.0,2000000000.0,1500000000.0,8498443053.0,2000000000.0,2000000000.0,1673501290.0,1940000000.0,2000000000.0,1791914903.0,2000000000.0,1500000000.0,1500000000.0,1500000000.0,2000000000.0,2000000000.0,2000000000.0,2000000000.0,1500000000.0,2000000000.0,3701525736.0,1500000000.0,2000000000.0,1500000000.0,1500000000.0,1500000000.0,2000000000.0,1881800000.0,1940000000.0,1791757697.0,1510000000.0,1500000000.0,1500000000.0,2000000000.0,1500000000.0,2000000000.0,1500000000.0,1500000000.0,2000000000.0,1500000000.0,2000000000.0,1650000000.0,1500000000.0,1500000000.0,22815979171.0,1500000000.0,2000000000.0,1500000000.0,1551000000.0,1650000000.0,1500000000.0,1500000000.0,1500000000.0,1500000000.0,1500000000.0,1500000000.0,1500000000.0,1500000000.0,2000000000.0,1500000000.0,1500000000.0,1578556940.0,1500000000.0,2778778876.0,1500000000.0,1940000000.0,1500000000.0,1500000000.0,1940000000.0,2000000000.0,2000000000.0,2000000000.0,1500000000.0,4000000000.0,2000000000.0,1500000000.0,1500000000.0,1500000000.0,2000000000.0,1500000000.0,2000000000.0,1940000000.0,2000000000.0,1500000000.0,2000000000.0,1500000000.0,1500000000.0,2000000000.0,3000000000.0,18758804927.0,2000000000.0,2000000000.0,1500000000.0,1500000000.0,1547887612.0,1500000000.0,1500000000.0,2450000000.0,1940000000.0,1500000000.0,1500000000.0,1500000000.0,1500000000.0,1500000000.0,23129489040.0,1500000000.0,1712665081.0,21913377410.0,1500000000.0,2000000000.0,1500000000.0,1500000000.0,1500000000.0,1500000000.0,2000000000.0,2000000000.0,1500000000.0,2000000000.0,1500000000.0,2000000000.0,1500000000.0,1500000000.0,2000000000.0,2000000000.0,null,null,null,null,null,null,null,null,null,null,null,null,null,null,null,null,null,null,null,null,null,null,null,null,null,null,null,null,null,null,null,null,null,null,null,null,null,null,null,null,null,null,null,null,null,null,null,null],\"yaxis\":\"y\",\"type\":\"scatter\"},{\"hovertemplate\":\"anomaly=Yes<br>ds=%{x}<br>y=%{y}<extra></extra>\",\"legendgroup\":\"Yes\",\"marker\":{\"color\":\"#EF553B\",\"symbol\":\"circle\"},\"mode\":\"markers\",\"name\":\"Yes\",\"orientation\":\"v\",\"showlegend\":true,\"x\":[\"2022-03-23T13:00:00\",\"2022-03-23T13:30:00\"],\"xaxis\":\"x\",\"y\":[66848563939.0,64866976836.0],\"yaxis\":\"y\",\"type\":\"scatter\"}],                        {\"template\":{\"data\":{\"histogram2dcontour\":[{\"type\":\"histogram2dcontour\",\"colorbar\":{\"outlinewidth\":0,\"ticks\":\"\"},\"colorscale\":[[0.0,\"#0d0887\"],[0.1111111111111111,\"#46039f\"],[0.2222222222222222,\"#7201a8\"],[0.3333333333333333,\"#9c179e\"],[0.4444444444444444,\"#bd3786\"],[0.5555555555555556,\"#d8576b\"],[0.6666666666666666,\"#ed7953\"],[0.7777777777777778,\"#fb9f3a\"],[0.8888888888888888,\"#fdca26\"],[1.0,\"#f0f921\"]]}],\"choropleth\":[{\"type\":\"choropleth\",\"colorbar\":{\"outlinewidth\":0,\"ticks\":\"\"}}],\"histogram2d\":[{\"type\":\"histogram2d\",\"colorbar\":{\"outlinewidth\":0,\"ticks\":\"\"},\"colorscale\":[[0.0,\"#0d0887\"],[0.1111111111111111,\"#46039f\"],[0.2222222222222222,\"#7201a8\"],[0.3333333333333333,\"#9c179e\"],[0.4444444444444444,\"#bd3786\"],[0.5555555555555556,\"#d8576b\"],[0.6666666666666666,\"#ed7953\"],[0.7777777777777778,\"#fb9f3a\"],[0.8888888888888888,\"#fdca26\"],[1.0,\"#f0f921\"]]}],\"heatmap\":[{\"type\":\"heatmap\",\"colorbar\":{\"outlinewidth\":0,\"ticks\":\"\"},\"colorscale\":[[0.0,\"#0d0887\"],[0.1111111111111111,\"#46039f\"],[0.2222222222222222,\"#7201a8\"],[0.3333333333333333,\"#9c179e\"],[0.4444444444444444,\"#bd3786\"],[0.5555555555555556,\"#d8576b\"],[0.6666666666666666,\"#ed7953\"],[0.7777777777777778,\"#fb9f3a\"],[0.8888888888888888,\"#fdca26\"],[1.0,\"#f0f921\"]]}],\"heatmapgl\":[{\"type\":\"heatmapgl\",\"colorbar\":{\"outlinewidth\":0,\"ticks\":\"\"},\"colorscale\":[[0.0,\"#0d0887\"],[0.1111111111111111,\"#46039f\"],[0.2222222222222222,\"#7201a8\"],[0.3333333333333333,\"#9c179e\"],[0.4444444444444444,\"#bd3786\"],[0.5555555555555556,\"#d8576b\"],[0.6666666666666666,\"#ed7953\"],[0.7777777777777778,\"#fb9f3a\"],[0.8888888888888888,\"#fdca26\"],[1.0,\"#f0f921\"]]}],\"contourcarpet\":[{\"type\":\"contourcarpet\",\"colorbar\":{\"outlinewidth\":0,\"ticks\":\"\"}}],\"contour\":[{\"type\":\"contour\",\"colorbar\":{\"outlinewidth\":0,\"ticks\":\"\"},\"colorscale\":[[0.0,\"#0d0887\"],[0.1111111111111111,\"#46039f\"],[0.2222222222222222,\"#7201a8\"],[0.3333333333333333,\"#9c179e\"],[0.4444444444444444,\"#bd3786\"],[0.5555555555555556,\"#d8576b\"],[0.6666666666666666,\"#ed7953\"],[0.7777777777777778,\"#fb9f3a\"],[0.8888888888888888,\"#fdca26\"],[1.0,\"#f0f921\"]]}],\"surface\":[{\"type\":\"surface\",\"colorbar\":{\"outlinewidth\":0,\"ticks\":\"\"},\"colorscale\":[[0.0,\"#0d0887\"],[0.1111111111111111,\"#46039f\"],[0.2222222222222222,\"#7201a8\"],[0.3333333333333333,\"#9c179e\"],[0.4444444444444444,\"#bd3786\"],[0.5555555555555556,\"#d8576b\"],[0.6666666666666666,\"#ed7953\"],[0.7777777777777778,\"#fb9f3a\"],[0.8888888888888888,\"#fdca26\"],[1.0,\"#f0f921\"]]}],\"mesh3d\":[{\"type\":\"mesh3d\",\"colorbar\":{\"outlinewidth\":0,\"ticks\":\"\"}}],\"scatter\":[{\"marker\":{\"line\":{\"color\":\"#283442\"}},\"type\":\"scatter\"}],\"parcoords\":[{\"type\":\"parcoords\",\"line\":{\"colorbar\":{\"outlinewidth\":0,\"ticks\":\"\"}}}],\"scatterpolargl\":[{\"type\":\"scatterpolargl\",\"marker\":{\"colorbar\":{\"outlinewidth\":0,\"ticks\":\"\"}}}],\"bar\":[{\"error_x\":{\"color\":\"#f2f5fa\"},\"error_y\":{\"color\":\"#f2f5fa\"},\"marker\":{\"line\":{\"color\":\"rgb(17,17,17)\",\"width\":0.5},\"pattern\":{\"fillmode\":\"overlay\",\"size\":10,\"solidity\":0.2}},\"type\":\"bar\"}],\"scattergeo\":[{\"type\":\"scattergeo\",\"marker\":{\"colorbar\":{\"outlinewidth\":0,\"ticks\":\"\"}}}],\"scatterpolar\":[{\"type\":\"scatterpolar\",\"marker\":{\"colorbar\":{\"outlinewidth\":0,\"ticks\":\"\"}}}],\"histogram\":[{\"marker\":{\"pattern\":{\"fillmode\":\"overlay\",\"size\":10,\"solidity\":0.2}},\"type\":\"histogram\"}],\"scattergl\":[{\"marker\":{\"line\":{\"color\":\"#283442\"}},\"type\":\"scattergl\"}],\"scatter3d\":[{\"type\":\"scatter3d\",\"line\":{\"colorbar\":{\"outlinewidth\":0,\"ticks\":\"\"}},\"marker\":{\"colorbar\":{\"outlinewidth\":0,\"ticks\":\"\"}}}],\"scattermapbox\":[{\"type\":\"scattermapbox\",\"marker\":{\"colorbar\":{\"outlinewidth\":0,\"ticks\":\"\"}}}],\"scatterternary\":[{\"type\":\"scatterternary\",\"marker\":{\"colorbar\":{\"outlinewidth\":0,\"ticks\":\"\"}}}],\"scattercarpet\":[{\"type\":\"scattercarpet\",\"marker\":{\"colorbar\":{\"outlinewidth\":0,\"ticks\":\"\"}}}],\"carpet\":[{\"aaxis\":{\"endlinecolor\":\"#A2B1C6\",\"gridcolor\":\"#506784\",\"linecolor\":\"#506784\",\"minorgridcolor\":\"#506784\",\"startlinecolor\":\"#A2B1C6\"},\"baxis\":{\"endlinecolor\":\"#A2B1C6\",\"gridcolor\":\"#506784\",\"linecolor\":\"#506784\",\"minorgridcolor\":\"#506784\",\"startlinecolor\":\"#A2B1C6\"},\"type\":\"carpet\"}],\"table\":[{\"cells\":{\"fill\":{\"color\":\"#506784\"},\"line\":{\"color\":\"rgb(17,17,17)\"}},\"header\":{\"fill\":{\"color\":\"#2a3f5f\"},\"line\":{\"color\":\"rgb(17,17,17)\"}},\"type\":\"table\"}],\"barpolar\":[{\"marker\":{\"line\":{\"color\":\"rgb(17,17,17)\",\"width\":0.5},\"pattern\":{\"fillmode\":\"overlay\",\"size\":10,\"solidity\":0.2}},\"type\":\"barpolar\"}],\"pie\":[{\"automargin\":true,\"type\":\"pie\"}]},\"layout\":{\"autotypenumbers\":\"strict\",\"colorway\":[\"#636efa\",\"#EF553B\",\"#00cc96\",\"#ab63fa\",\"#FFA15A\",\"#19d3f3\",\"#FF6692\",\"#B6E880\",\"#FF97FF\",\"#FECB52\"],\"font\":{\"color\":\"#f2f5fa\"},\"hovermode\":\"closest\",\"hoverlabel\":{\"align\":\"left\"},\"paper_bgcolor\":\"rgb(17,17,17)\",\"plot_bgcolor\":\"rgb(17,17,17)\",\"polar\":{\"bgcolor\":\"rgb(17,17,17)\",\"angularaxis\":{\"gridcolor\":\"#506784\",\"linecolor\":\"#506784\",\"ticks\":\"\"},\"radialaxis\":{\"gridcolor\":\"#506784\",\"linecolor\":\"#506784\",\"ticks\":\"\"}},\"ternary\":{\"bgcolor\":\"rgb(17,17,17)\",\"aaxis\":{\"gridcolor\":\"#506784\",\"linecolor\":\"#506784\",\"ticks\":\"\"},\"baxis\":{\"gridcolor\":\"#506784\",\"linecolor\":\"#506784\",\"ticks\":\"\"},\"caxis\":{\"gridcolor\":\"#506784\",\"linecolor\":\"#506784\",\"ticks\":\"\"}},\"coloraxis\":{\"colorbar\":{\"outlinewidth\":0,\"ticks\":\"\"}},\"colorscale\":{\"sequential\":[[0.0,\"#0d0887\"],[0.1111111111111111,\"#46039f\"],[0.2222222222222222,\"#7201a8\"],[0.3333333333333333,\"#9c179e\"],[0.4444444444444444,\"#bd3786\"],[0.5555555555555556,\"#d8576b\"],[0.6666666666666666,\"#ed7953\"],[0.7777777777777778,\"#fb9f3a\"],[0.8888888888888888,\"#fdca26\"],[1.0,\"#f0f921\"]],\"sequentialminus\":[[0.0,\"#0d0887\"],[0.1111111111111111,\"#46039f\"],[0.2222222222222222,\"#7201a8\"],[0.3333333333333333,\"#9c179e\"],[0.4444444444444444,\"#bd3786\"],[0.5555555555555556,\"#d8576b\"],[0.6666666666666666,\"#ed7953\"],[0.7777777777777778,\"#fb9f3a\"],[0.8888888888888888,\"#fdca26\"],[1.0,\"#f0f921\"]],\"diverging\":[[0,\"#8e0152\"],[0.1,\"#c51b7d\"],[0.2,\"#de77ae\"],[0.3,\"#f1b6da\"],[0.4,\"#fde0ef\"],[0.5,\"#f7f7f7\"],[0.6,\"#e6f5d0\"],[0.7,\"#b8e186\"],[0.8,\"#7fbc41\"],[0.9,\"#4d9221\"],[1,\"#276419\"]]},\"xaxis\":{\"gridcolor\":\"#283442\",\"linecolor\":\"#506784\",\"ticks\":\"\",\"title\":{\"standoff\":15},\"zerolinecolor\":\"#283442\",\"automargin\":true,\"zerolinewidth\":2},\"yaxis\":{\"gridcolor\":\"#283442\",\"linecolor\":\"#506784\",\"ticks\":\"\",\"title\":{\"standoff\":15},\"zerolinecolor\":\"#283442\",\"automargin\":true,\"zerolinewidth\":2},\"scene\":{\"xaxis\":{\"backgroundcolor\":\"rgb(17,17,17)\",\"gridcolor\":\"#506784\",\"linecolor\":\"#506784\",\"showbackground\":true,\"ticks\":\"\",\"zerolinecolor\":\"#C8D4E3\",\"gridwidth\":2},\"yaxis\":{\"backgroundcolor\":\"rgb(17,17,17)\",\"gridcolor\":\"#506784\",\"linecolor\":\"#506784\",\"showbackground\":true,\"ticks\":\"\",\"zerolinecolor\":\"#C8D4E3\",\"gridwidth\":2},\"zaxis\":{\"backgroundcolor\":\"rgb(17,17,17)\",\"gridcolor\":\"#506784\",\"linecolor\":\"#506784\",\"showbackground\":true,\"ticks\":\"\",\"zerolinecolor\":\"#C8D4E3\",\"gridwidth\":2}},\"shapedefaults\":{\"line\":{\"color\":\"#f2f5fa\"}},\"annotationdefaults\":{\"arrowcolor\":\"#f2f5fa\",\"arrowhead\":0,\"arrowwidth\":1},\"geo\":{\"bgcolor\":\"rgb(17,17,17)\",\"landcolor\":\"rgb(17,17,17)\",\"subunitcolor\":\"#506784\",\"showland\":true,\"showlakes\":true,\"lakecolor\":\"rgb(17,17,17)\"},\"title\":{\"x\":0.05},\"updatemenudefaults\":{\"bgcolor\":\"#506784\",\"borderwidth\":0},\"sliderdefaults\":{\"bgcolor\":\"#C8D4E3\",\"borderwidth\":1,\"bordercolor\":\"rgb(17,17,17)\",\"tickwidth\":0},\"mapbox\":{\"style\":\"dark\"}}},\"xaxis\":{\"anchor\":\"y\",\"domain\":[0.0,1.0],\"title\":{\"text\":\"ds\"}},\"yaxis\":{\"anchor\":\"x\",\"domain\":[0.0,1.0],\"title\":{\"text\":\"y\"}},\"legend\":{\"title\":{\"text\":\"anomaly\"},\"tracegroupgap\":0},\"title\":{\"text\":\"NYC Taxi Demand\"}},                        {\"responsive\": true}                    ).then(function(){\n                            \nvar gd = document.getElementById('3ae7025e-7636-472e-9712-3faf79446858');\nvar x = new MutationObserver(function (mutations, observer) {{\n        var display = window.getComputedStyle(gd).display;\n        if (!display || display === 'none') {{\n            console.log([gd, 'removed!']);\n            Plotly.purge(gd);\n            observer.disconnect();\n        }}\n}});\n\n// Listen for the removal of the full notebook cells\nvar notebookContainer = gd.closest('#notebook-container');\nif (notebookContainer) {{\n    x.observe(notebookContainer, {childList: true});\n}}\n\n// Listen for the clearing of the current output cell\nvar outputEl = gd.closest('.output');\nif (outputEl) {{\n    x.observe(outputEl, {childList: true});\n}}\n\n                        })                };                });            </script>        </div>"
     },
     "metadata": {},
     "output_type": "display_data"
    }
   ],
   "source": [
    "fig = px.scatter(result.reset_index(), x='ds', y='y', color='anomaly', title='NYC Taxi Demand')\n",
    "# fig.add_scatter(result, x='ds', y='yhat', color='green', title='real')\n",
    "fig.update_xaxes(\n",
    "    # rangeslider_visible = True,\n",
    "    rangeselector = dict(\n",
    "        # buttons = list([\n",
    "        #       dict(count=1, label='1y', step=\"year\", stepmode=\"backward\"),\n",
    "        #       dict(count=2, label='3y', step=\"year\", stepmode=\"backward\"),\n",
    "        #       dict(count=2, label='5y', step=\"year\", stepmode=\"backward\"),\n",
    "        #       dict(step=\"all\")\n",
    "        # ])\n",
    "    )\n",
    ")\n",
    "fig.show()"
   ],
   "metadata": {
    "collapsed": false,
    "pycharm": {
     "name": "#%%\n"
    }
   }
  },
  {
   "cell_type": "code",
   "execution_count": 88,
   "outputs": [],
   "source": [
    "# for index, row in forecast.iterrows():\n",
    "#     print({'contract': protocol, 'timestamp': row['ds'].timestamp(), 'priority_fee': row['yhat'],\n",
    "#                             'priority_fee_lower': row['yhat_lower'], 'priority_fee_upper': row['yhat_upper']})"
   ],
   "metadata": {
    "collapsed": false,
    "pycharm": {
     "name": "#%%\n"
    }
   }
  }
 ],
 "metadata": {
  "kernelspec": {
   "display_name": "Python 3",
   "language": "python",
   "name": "python3"
  },
  "language_info": {
   "codemirror_mode": {
    "name": "ipython",
    "version": 2
   },
   "file_extension": ".py",
   "mimetype": "text/x-python",
   "name": "python",
   "nbconvert_exporter": "python",
   "pygments_lexer": "ipython2",
   "version": "2.7.6"
  }
 },
 "nbformat": 4,
 "nbformat_minor": 0
}