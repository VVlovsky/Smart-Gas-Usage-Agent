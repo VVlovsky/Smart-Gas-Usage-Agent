{
 "cells": [
  {
   "cell_type": "code",
   "execution_count": null,
   "outputs": [],
   "source": [
    "# import tensorflow\n",
    "# from keras.models import Sequential\n",
    "# from keras.layers import Dense\n",
    "# from keras.layers import LSTM"
   ],
   "metadata": {
    "collapsed": false,
    "pycharm": {
     "name": "#%%\n"
    }
   }
  },
  {
   "cell_type": "code",
   "execution_count": null,
   "metadata": {
    "collapsed": true,
    "pycharm": {
     "name": "#%%\n"
    }
   },
   "outputs": [],
   "source": [
    "from src.db.db_utils import db_utils\n",
    "from src.db.controller import init_async_db\n",
    "from src.config import ETHER_protocols\n",
    "\n",
    "transactions, blocks, future = await init_async_db(True)\n",
    "db_utils.set_tables(transactions, blocks, future)\n",
    "\n",
    "transaction_table = db_utils.get_transactions()\n"
   ]
  },
  {
   "cell_type": "code",
   "execution_count": null,
   "outputs": [],
   "source": [
    "protocol = ETHER_protocols.get('Uniswap').lower()\n",
    "print(protocol)"
   ],
   "metadata": {
    "collapsed": false,
    "pycharm": {
     "name": "#%%\n"
    }
   }
  },
  {
   "cell_type": "code",
   "execution_count": null,
   "outputs": [],
   "source": [
    "transactions_rows = await transaction_table.get_all_rows_by_criteria({'contract': protocol})\n",
    "print(len(transactions_rows))\n",
    "transactions_rows = transactions_rows[:-500]"
   ],
   "metadata": {
    "collapsed": false,
    "pycharm": {
     "name": "#%%\n"
    }
   }
  },
  {
   "cell_type": "code",
   "execution_count": null,
   "outputs": [],
   "source": [
    "type(transactions_rows[0])"
   ],
   "metadata": {
    "collapsed": false,
    "pycharm": {
     "name": "#%%\n"
    }
   }
  },
  {
   "cell_type": "code",
   "execution_count": null,
   "outputs": [],
   "source": [
    "import pandas as pd\n",
    "\n",
    "df = pd.DataFrame([t.__dict__ for t in transactions_rows])"
   ],
   "metadata": {
    "collapsed": false,
    "pycharm": {
     "name": "#%%\n"
    }
   }
  },
  {
   "cell_type": "code",
   "execution_count": null,
   "outputs": [],
   "source": [
    "df.head()"
   ],
   "metadata": {
    "collapsed": false,
    "pycharm": {
     "name": "#%%\n"
    }
   }
  },
  {
   "cell_type": "code",
   "execution_count": null,
   "outputs": [],
   "source": [
    "df['timestamp'] = pd.to_datetime(df['timestamp'], unit='s')"
   ],
   "metadata": {
    "collapsed": false,
    "pycharm": {
     "name": "#%%\n"
    }
   }
  },
  {
   "cell_type": "code",
   "execution_count": null,
   "outputs": [],
   "source": [
    "# df.head("
   ],
   "metadata": {
    "collapsed": false,
    "pycharm": {
     "name": "#%%\n"
    }
   }
  },
  {
   "cell_type": "code",
   "execution_count": null,
   "outputs": [],
   "source": [
    "import plotly.express as px\n",
    "\n",
    "#\n",
    "#\n",
    "fig = px.line(df.reset_index(), x='timestamp', y='gas_price', title='Gas Price')\n",
    "fig.update_xaxes(\n",
    "    rangeslider_visible = True\n",
    ")\n",
    "# fig.show()\n",
    "# fig = px.line(df.reset_index(), x='timestamp', y='gas', title='Gas')\n",
    "# fig.update_xaxes(\n",
    "#     rangeslider_visible = True\n",
    "# )\n",
    "# fig.show()\n",
    "# fig = px.line(df.reset_index(), x='timestamp', y='gas_percentage', title='Gas Relative to Total Gas')\n",
    "# fig.update_xaxes(\n",
    "#     rangeslider_visible = True\n",
    "# )\n",
    "# fig.show()\n",
    "fig = px.line(df.reset_index(), x='timestamp', y='priority_fee', title='Priority Fee')\n",
    "fig.update_xaxes(\n",
    "    rangeslider_visible=True\n",
    ")\n",
    "fig.show()"
   ],
   "metadata": {
    "collapsed": false,
    "pycharm": {
     "name": "#%%\n"
    }
   }
  },
  {
   "cell_type": "code",
   "execution_count": null,
   "outputs": [],
   "source": [
    "df = df.drop(columns=['_sa_instance_state', 'timestamp', 'id', 'gas', 'gas_percentage', 'contract', 'tx', 'gas_price',\n",
    "                      'gas_percentage_by_limit_in_block'])\n",
    "columns_titles = [\"priority_fee\"]\n",
    "df = df.reindex(columns=columns_titles)\n",
    "import numpy as np\n",
    "\n",
    "\n",
    "\n",
    "def clean_dataset(df):\n",
    "    assert isinstance(df, pd.DataFrame), \"df needs to be a pd.DataFrame\"\n",
    "    df.dropna(inplace=True)\n",
    "    indices_to_keep = ~df.isin([np.nan, np.inf, -np.inf]).any(1)\n",
    "    return df[indices_to_keep].astype(np.float64)\n",
    "\n",
    "df = clean_dataset(df)\n",
    "\n",
    "result = {}\n",
    "\n",
    "# result['block'] = df.block.values\n",
    "result['priority_fee'] = df.priority_fee.values\n",
    "\n"
   ],
   "metadata": {
    "collapsed": false,
    "pycharm": {
     "name": "#%%\n"
    }
   }
  },
  {
   "cell_type": "code",
   "execution_count": null,
   "outputs": [],
   "source": [
    "df.head()"
   ],
   "metadata": {
    "collapsed": false,
    "pycharm": {
     "name": "#%%\n"
    }
   }
  },
  {
   "cell_type": "code",
   "execution_count": null,
   "outputs": [],
   "source": [
    "\n",
    "np.any(np.isnan(df))"
   ],
   "metadata": {
    "collapsed": false,
    "pycharm": {
     "name": "#%%\n"
    }
   }
  },
  {
   "cell_type": "code",
   "execution_count": null,
   "outputs": [],
   "source": [
    "from sklearn.preprocessing import StandardScaler, MinMaxScaler\n",
    "\n",
    "\n",
    "df = df.reset_index()\n",
    "outliers_fraction=0.05\n",
    "# scaler = MinMaxScaler((0, 1))\n",
    "# df[['priority_fee']] = scaler.fit_transform(df[['priority_fee']])\n",
    "# print(max(df.priority_fee.values))\n",
    "\n",
    "data = df.to_numpy()\n",
    "print(data)"
   ],
   "metadata": {
    "collapsed": false,
    "pycharm": {
     "name": "#%%\n"
    }
   }
  },
  {
   "cell_type": "code",
   "execution_count": null,
   "outputs": [],
   "source": [
    "from tods.detection_algorithm.DeepLog import DeepLog\n",
    "# from tods.detection_algorithm.DeepLog import\n",
    "\n",
    "# params = Params()\n",
    "\n",
    "transformer_DL = DeepLog(epochs=10)\n",
    "transformer_DL.fit(data)"
   ],
   "metadata": {
    "collapsed": false,
    "pycharm": {
     "name": "#%%\n"
    }
   }
  },
  {
   "cell_type": "code",
   "execution_count": null,
   "outputs": [],
   "source": [
    "prediction_labels_DL = transformer_DL.predict(data)\n",
    "prediction_score_DL = transformer_DL.predict_score(data)\n",
    "print(\"Prediction Labels\\n\", prediction_labels_DL)\n",
    "print(\"Prediction Score\\n\", prediction_score_DL)"
   ],
   "metadata": {
    "collapsed": false,
    "pycharm": {
     "name": "#%%\n"
    }
   }
  },
  {
   "cell_type": "code",
   "execution_count": null,
   "outputs": [],
   "source": [
    "\n",
    "result['anomaly_DeepLog'] = pd.Series(prediction_score_DL.flatten())\n",
    "result['anomaly_DeepLog'] = result['anomaly_DeepLog'].apply(lambda x: x > 20)\n",
    "result['anomaly_DeepLog'] = result['anomaly_DeepLog'].astype(int)\n",
    "result['anomaly_DeepLog'].value_counts()"
   ],
   "metadata": {
    "collapsed": false,
    "pycharm": {
     "name": "#%%\n"
    }
   }
  },
  {
   "cell_type": "code",
   "execution_count": null,
   "outputs": [],
   "source": [
    "import matplotlib.pyplot as plt\n",
    "\n",
    "fig, ax = plt.subplots(figsize=(10,6))\n",
    "\n",
    "#anomaly\n",
    "a = df.loc[result['anomaly_DeepLog'] == 1]\n",
    "outlier_index=list(a.index)\n",
    "ax.plot(result['priority_fee'], color='black', label = 'Normal', linewidth=1.5)\n",
    "ax.scatter(a.index ,a['priority_fee'], color='red', label = 'Anomaly', s=16)\n",
    "ax.plot(pd.Series(prediction_score_DL.flatten()*10), color='blue', label = 'Score', linewidth=0.5)\n",
    "\n",
    "\n",
    "plt.legend()\n",
    "plt.title(\"Anamoly Detection Using DeepLog\")\n",
    "plt.xlabel('Date')\n",
    "plt.ylabel('Transactions')\n",
    "plt.show();"
   ],
   "metadata": {
    "collapsed": false,
    "pycharm": {
     "name": "#%%\n"
    }
   }
  },
  {
   "cell_type": "code",
   "execution_count": null,
   "outputs": [],
   "source": [
    "from sklearn.preprocessing import MinMaxScaler\n",
    "\n",
    "# normalize the dataset\n",
    "# scaler = MinMaxScaler(feature_range=(0, 1))\n",
    "# df[['priority_fee']] = scaler.fit_transform(df[['priority_fee']])"
   ],
   "metadata": {
    "collapsed": false,
    "pycharm": {
     "name": "#%%\n"
    }
   }
  },
  {
   "cell_type": "code",
   "execution_count": null,
   "outputs": [],
   "source": [
    "df = df.set_index('timestamp').resample('H').max()"
   ],
   "metadata": {
    "collapsed": false,
    "pycharm": {
     "name": "#%%\n"
    }
   }
  },
  {
   "cell_type": "code",
   "execution_count": null,
   "outputs": [],
   "source": [
    "# from adtk.detector import SeasonalAD\n",
    "# from adtk.visualization import plot\n",
    "#\n",
    "#\n",
    "# seasonal_ad = SeasonalAD()\n",
    "# anomalies = seasonal_ad.fit_detect(df)\n",
    "# plot(df, anomaly=anomalies, anomaly_color=\"red\", anomaly_tag=\"marker\")"
   ],
   "metadata": {
    "collapsed": false,
    "pycharm": {
     "name": "#%%\n"
    }
   }
  },
  {
   "cell_type": "code",
   "execution_count": null,
   "outputs": [],
   "source": [
    "X_train = df.timestamp\n",
    "Y_train = df.priority_fee\n",
    "\n",
    "from pyod.models.ecod import ECOD\n",
    "\n",
    "clf = ECOD()\n",
    "clf.fit((X_train, Y_train))\n",
    "\n",
    "# get outlier scores\n",
    "y_train_scores = clf.decision_scores_  # raw outlier scores on the train data\n",
    "# y_test_scores = clf.decision_function(X_test)  # predict raw outlier scores on test"
   ],
   "metadata": {
    "collapsed": false,
    "pycharm": {
     "name": "#%%\n"
    }
   }
  },
  {
   "cell_type": "code",
   "execution_count": null,
   "outputs": [],
   "source": [
    "from pyod.utils.example import visualize\n",
    "\n",
    "y_train_pred = clf.labels_  # binary labels (0: inliers, 1: outliers)\n",
    "y_train_scores = clf.decision_scores_  # raw outlier scores\n",
    "\n",
    "# visualize the results\n",
    "visualize('ECOD', X_train, Y_train, y_train_pred=y_train_pred,\n",
    "          show_figure=True, save_figure=False)"
   ],
   "metadata": {
    "collapsed": false,
    "pycharm": {
     "name": "#%%\n"
    }
   }
  },
  {
   "cell_type": "code",
   "execution_count": null,
   "outputs": [],
   "source": [
    "print(y_train_scores)\n",
    "y_pred = clf.predict(df['timestamp'])"
   ],
   "metadata": {
    "collapsed": false,
    "pycharm": {
     "name": "#%%\n"
    }
   }
  },
  {
   "cell_type": "code",
   "execution_count": null,
   "outputs": [],
   "source": [
    "# df = df.set_index('timestamp')"
   ],
   "metadata": {
    "collapsed": false,
    "pycharm": {
     "name": "#%%\n"
    }
   }
  },
  {
   "cell_type": "code",
   "execution_count": null,
   "outputs": [],
   "source": [
    "fig = px.line(pred, title='Priority Fee')\n",
    "fig.update_xaxes(\n",
    "    rangeslider_visible=True\n",
    ")\n",
    "fig.show()"
   ],
   "metadata": {
    "collapsed": false,
    "pycharm": {
     "name": "#%%\n"
    }
   }
  }
 ],
 "metadata": {
  "kernelspec": {
   "display_name": "Python 3",
   "language": "python",
   "name": "python3"
  },
  "language_info": {
   "codemirror_mode": {
    "name": "ipython",
    "version": 2
   },
   "file_extension": ".py",
   "mimetype": "text/x-python",
   "name": "python",
   "nbconvert_exporter": "python",
   "pygments_lexer": "ipython2",
   "version": "2.7.6"
  }
 },
 "nbformat": 4,
 "nbformat_minor": 0
}